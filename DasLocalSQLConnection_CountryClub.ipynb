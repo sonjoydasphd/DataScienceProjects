{
 "cells": [
  {
   "cell_type": "markdown",
   "id": "b147b715-1aa9-4720-99bb-64c2f6eed60b",
   "metadata": {},
   "source": [
    "# Case Study - Country Club<a id='Case_Study_Country_Club'></a>\n",
    "\n",
    "<div style=\"text-align: right\"><i><font size=\"2\"> by: <a href=\"https://www.linkedin.com/in/sonjoy-das-9b323213/\" target=\"_parent\">Sonjoy Das, PhD</a></font></i></div>"
   ]
  },
  {
   "cell_type": "markdown",
   "id": "d947ef6e-176c-43bf-88ae-29aab2b008a4",
   "metadata": {},
   "source": [
    "**The objective of this notebook is to illustrate the power of Structured Query Language (SQL)** to solve a few business questions related to a country club. We connect to a local instance of the database containing information about the country club using Python and SQLite in this Juptyer Notebook. Depending on the business question, we retrieve particular pieces of information from the database and translate our requests into SQL queries. The output format of each querry is similar to what we would see in a typical relational database management system software such as `MySQL`. The `sqlite3` module is used here only to access the database and the `pandas` library is used only to format the output of each querry similar to what we would obtain in a standard relational database management system software such as `MySQL`. No data manipulation or analysis is carried out through python. **This notebook exclusively uses SQL querries for data processing and analysis as and when required.**"
   ]
  },
  {
   "cell_type": "markdown",
   "id": "336f4d05-c94b-4cf5-a136-2efee91f19f4",
   "metadata": {},
   "source": [
    "## 1.1 Imports<a id='1.1_Imports'></a>"
   ]
  },
  {
   "cell_type": "code",
   "execution_count": 1,
   "id": "7a186a43-bdcb-4961-84b8-e498852f275c",
   "metadata": {},
   "outputs": [],
   "source": [
    "import sqlite3\n",
    "import pandas as pd"
   ]
  },
  {
   "cell_type": "markdown",
   "id": "920e88d0-2a6f-4fa6-adc8-a3581a18aa16",
   "metadata": {},
   "source": [
    "## 1.2 Connect to Database<a id='1.2_Connect_Database'></a>"
   ]
  },
  {
   "cell_type": "code",
   "execution_count": 2,
   "id": "ebd9eb99-c368-47f4-b088-9a6462158659",
   "metadata": {},
   "outputs": [
    {
     "name": "stdout",
     "output_type": "stream",
     "text": [
      "2.6.0\n"
     ]
    }
   ],
   "source": [
    "database = \"sqlite_db_pythonsqlite.db\"\n",
    "conn = sqlite3.connect(database)\n",
    "print(sqlite3.version)"
   ]
  },
  {
   "cell_type": "markdown",
   "id": "7e498863-364d-404d-ad30-4277cdd0ba49",
   "metadata": {},
   "source": [
    "## 1.3 Define Function to Execute SQL Querry<a id='1.3_Function_to_Execute_Querry'></a>"
   ]
  },
  {
   "cell_type": "code",
   "execution_count": 3,
   "id": "f3f16234-6f1d-4884-b646-73459e0a7de6",
   "metadata": {},
   "outputs": [],
   "source": [
    "# Define a function to execute the SQL queery and print them as pandas's dataframe along with\n",
    "# the size of panda's dataframe.\n",
    "def execute_print_sql_query(query):\n",
    "    cursor = conn.cursor()\n",
    "    \n",
    "    rs = cursor.execute(query)\n",
    "    # Extract the column names of the table \n",
    "    # Reference: https://www.daniweb.com/programming/software-development/threads/124403/sqlite3-how-to-see-column-names-for-table\n",
    "    col_name_list = [tuple[0] for tuple in cursor.description]\n",
    "\n",
    "    df = pd.DataFrame(cursor.fetchall())\n",
    "    # Set the column name of pandas dataframe to keys or column names of table extracted from sqlite\n",
    "    df.columns = col_name_list\n",
    "\n",
    "    print(\"Size of panda's dataframe: \" + str(df.shape)+\"\\n\")\n",
    "    print(df)\n",
    "    cursor.close()"
   ]
  },
  {
   "cell_type": "markdown",
   "id": "fb1106e5-f889-41b8-bb77-af41d4b1218a",
   "metadata": {},
   "source": [
    "## 1.4 Explore Database and Tables<a id='1.4_Explore_Database_and_Tables'></a>"
   ]
  },
  {
   "cell_type": "code",
   "execution_count": 4,
   "id": "fe575e91-b47b-46f8-9ee6-5e0f84437f89",
   "metadata": {},
   "outputs": [
    {
     "name": "stdout",
     "output_type": "stream",
     "text": [
      "Size of panda's dataframe: (3, 1)\n",
      "\n",
      "         name\n",
      "0    Bookings\n",
      "1  Facilities\n",
      "2     Members\n"
     ]
    }
   ],
   "source": [
    "# Print how many tables are there in the database\n",
    "query = \"\"\"\n",
    "        SELECT name\n",
    "        FROM sqlite_master\n",
    "        WHERE type='table';\n",
    "        \"\"\"\n",
    "execute_print_sql_query(query)"
   ]
  },
  {
   "cell_type": "markdown",
   "id": "ec74de8e-b74e-4222-a0b2-ebb98b3b7fa3",
   "metadata": {},
   "source": [
    "There are 3 tables: `Bookings`, `Facilities`, and `Members`."
   ]
  },
  {
   "cell_type": "markdown",
   "id": "1ca54860-167c-4e0d-8047-daeade9f7636",
   "metadata": {},
   "source": [
    "### 1.4.1 `facilities` Table<a id='1.4.1_facilities_Table'></a>"
   ]
  },
  {
   "cell_type": "code",
   "execution_count": 5,
   "id": "49c14ff2-73d4-4095-8420-202fb62a3c80",
   "metadata": {},
   "outputs": [
    {
     "name": "stdout",
     "output_type": "stream",
     "text": [
      "Size of panda's dataframe: (9, 6)\n",
      "\n",
      "   facid             name  membercost  guestcost  initialoutlay  \\\n",
      "0      0   Tennis Court 1         5.0       25.0          10000   \n",
      "1      1   Tennis Court 2         5.0       25.0           8000   \n",
      "2      2  Badminton Court         0.0       15.5           4000   \n",
      "3      3     Table Tennis         0.0        5.0            320   \n",
      "4      4   Massage Room 1         9.9       80.0           4000   \n",
      "5      5   Massage Room 2         9.9       80.0           4000   \n",
      "6      6     Squash Court         3.5       17.5           5000   \n",
      "7      7    Snooker Table         0.0        5.0            450   \n",
      "8      8       Pool Table         0.0        5.0            400   \n",
      "\n",
      "   monthlymaintenance  \n",
      "0                 200  \n",
      "1                 200  \n",
      "2                  50  \n",
      "3                  10  \n",
      "4                3000  \n",
      "5                3000  \n",
      "6                  80  \n",
      "7                  15  \n",
      "8                  15  \n"
     ]
    }
   ],
   "source": [
    "# Print and explore facilities table\n",
    "query = \"\"\"\n",
    "        SELECT *\n",
    "        FROM facilities;\n",
    "        \"\"\"\n",
    "execute_print_sql_query(query)"
   ]
  },
  {
   "cell_type": "markdown",
   "id": "57b4b9a3-0e9c-4560-a678-ec862b37b745",
   "metadata": {},
   "source": [
    "### 1.4.2 `members` Table<a id='1.4.2_members_Table'></a>"
   ]
  },
  {
   "cell_type": "code",
   "execution_count": 6,
   "id": "d089af31-55ba-4ee7-9223-be1f6e08a2ce",
   "metadata": {},
   "outputs": [
    {
     "name": "stdout",
     "output_type": "stream",
     "text": [
      "Size of panda's dataframe: (31, 8)\n",
      "\n",
      "    memid            surname  firstname  \\\n",
      "0       0              GUEST      GUEST   \n",
      "1       1              Smith     Darren   \n",
      "2       2              Smith      Tracy   \n",
      "3       3             Rownam        Tim   \n",
      "4       4           Joplette     Janice   \n",
      "5       5            Butters     Gerald   \n",
      "6       6              Tracy     Burton   \n",
      "7       7               Dare      Nancy   \n",
      "8       8             Boothe        Tim   \n",
      "9       9           Stibbons     Ponder   \n",
      "10     10               Owen    Charles   \n",
      "11     11              Jones      David   \n",
      "12     12              Baker       Anne   \n",
      "13     13            Farrell     Jemima   \n",
      "14     14              Smith       Jack   \n",
      "15     15              Bader   Florence   \n",
      "16     16              Baker    Timothy   \n",
      "17     17             Pinker      David   \n",
      "18     20            Genting    Matthew   \n",
      "19     21          Mackenzie       Anna   \n",
      "20     22             Coplin       Joan   \n",
      "21     24             Sarwin  Ramnaresh   \n",
      "22     26              Jones    Douglas   \n",
      "23     27             Rumney  Henrietta   \n",
      "24     28            Farrell      David   \n",
      "25     29  Worthington-Smyth      Henry   \n",
      "26     30            Purview  Millicent   \n",
      "27     33         Tupperware   Hyacinth   \n",
      "28     35               Hunt       John   \n",
      "29     36            Crumpet      Erica   \n",
      "30     37              Smith     Darren   \n",
      "\n",
      "                                    address  zipcode       telephone  \\\n",
      "0                                     GUEST        0  (000) 000-0000   \n",
      "1                8 Bloomsbury Close, Boston     4321    555-555-5555   \n",
      "2              8 Bloomsbury Close, New York     4321    555-555-5555   \n",
      "3                    23 Highway Way, Boston    23423  (844) 693-0723   \n",
      "4                20 Crossing Road, New York      234  (833) 942-4710   \n",
      "5            1065 Huntingdon Avenue, Boston    56754  (844) 078-4130   \n",
      "6                   3 Tunisia Drive, Boston    45678  (822) 354-9973   \n",
      "7               6 Hunting Lodge Way, Boston    10383  (833) 776-4001   \n",
      "8        3 Bloomsbury Close, Reading, 00234      234  (811) 433-2547   \n",
      "9                 5 Dragons Way, Winchester    87630  (833) 160-3900   \n",
      "10     52 Cheshire Grove, Winchester, 28563    28563  (855) 542-5251   \n",
      "11                 976 Gnats Close, Reading    33862  (844) 536-8036   \n",
      "12                55 Powdery Street, Boston    80743    844-076-5141   \n",
      "13          103 Firth Avenue, North Reading    57392  (855) 016-0163   \n",
      "14               252 Binkington Way, Boston    69302  (822) 163-3254   \n",
      "15               264 Ursula Drive, Westford    84923  (833) 499-3527   \n",
      "16                329 James Street, Reading    58393    833-941-0824   \n",
      "17                   5 Impreza Road, Boston    65332    811 409-6734   \n",
      "18    4 Nunnington Place, Wingfield, Boston    52365  (811) 972-1377   \n",
      "19              64 Perkington Lane, Reading    64577  (822) 661-2898   \n",
      "20      85 Bard Street, Bloomington, Boston    43533  (822) 499-2232   \n",
      "21               12 Bullington Lane, Boston    65464  (822) 413-1470   \n",
      "22                 976 Gnats Close, Reading    11986    844 536-8036   \n",
      "23               3 Burkington Plaza, Boston    78533  (822) 989-8876   \n",
      "24          437 Granite Farm Road, Westford    43532  (855) 755-9876   \n",
      "25              55 Jagbi Way, North Reading    97676  (855) 894-3758   \n",
      "26   641 Drudgery Close, Burnington, Boston    34232  (855) 941-9786   \n",
      "27  33 Cheerful Plaza, Drake Road, Westford    68666  (822) 665-5327   \n",
      "28                5 Bullington Lane, Boston    54333  (899) 720-6978   \n",
      "29              Crimson Road, North Reading    75655  (811) 732-4816   \n",
      "30           3 Funktown, Denzington, Boston    66796  (822) 577-3541   \n",
      "\n",
      "   recommendedby             joindate  \n",
      "0                 2012-07-01 00:00:00  \n",
      "1                 2012-07-02 12:02:05  \n",
      "2                 2012-07-02 12:08:23  \n",
      "3                 2012-07-03 09:32:15  \n",
      "4              1  2012-07-03 10:25:05  \n",
      "5              1  2012-07-09 10:44:09  \n",
      "6                 2012-07-15 08:52:55  \n",
      "7              4  2012-07-25 08:59:12  \n",
      "8              3  2012-07-25 16:02:35  \n",
      "9              6  2012-07-25 17:09:05  \n",
      "10             1  2012-08-03 19:42:37  \n",
      "11             4  2012-08-06 16:32:55  \n",
      "12             9  2012-08-10 14:23:22  \n",
      "13                2012-08-10 14:28:01  \n",
      "14             1  2012-08-10 16:22:05  \n",
      "15             9  2012-08-10 17:52:03  \n",
      "16            13  2012-08-15 10:34:25  \n",
      "17            13  2012-08-16 11:32:47  \n",
      "18             5  2012-08-19 14:55:55  \n",
      "19             1  2012-08-26 09:32:05  \n",
      "20            16  2012-08-29 08:32:41  \n",
      "21            15  2012-09-01 08:44:42  \n",
      "22            11  2012-09-02 18:43:05  \n",
      "23            20  2012-09-05 08:42:35  \n",
      "24                2012-09-15 08:22:05  \n",
      "25             2  2012-09-17 12:27:15  \n",
      "26             2  2012-09-18 19:04:01  \n",
      "27                2012-09-18 19:32:05  \n",
      "28            30  2012-09-19 11:32:45  \n",
      "29             2  2012-09-22 08:36:38  \n",
      "30                2012-09-26 18:08:45  \n"
     ]
    }
   ],
   "source": [
    "# Print and explore members table\n",
    "query = \"\"\"\n",
    "        SELECT *\n",
    "        FROM members;\n",
    "        \"\"\"\n",
    "execute_print_sql_query(query)"
   ]
  },
  {
   "cell_type": "markdown",
   "id": "f7ff3a86-9a19-4461-9407-79319a9133b7",
   "metadata": {},
   "source": [
    "### 1.4.3 `bookings` Table<a id='1.4.3_bookings_Table'></a>"
   ]
  },
  {
   "cell_type": "code",
   "execution_count": 7,
   "id": "c4e7fe16-fdd7-4330-a531-3998af457663",
   "metadata": {},
   "outputs": [
    {
     "name": "stdout",
     "output_type": "stream",
     "text": [
      "Size of panda's dataframe: (4043, 5)\n",
      "\n",
      "      bookid  facid  memid            starttime  slots\n",
      "0          0      3      1  2012-07-03 11:00:00      2\n",
      "1          1      4      1  2012-07-03 08:00:00      2\n",
      "2          2      6      0  2012-07-03 18:00:00      2\n",
      "3          3      7      1  2012-07-03 19:00:00      2\n",
      "4          4      8      1  2012-07-03 10:00:00      1\n",
      "...      ...    ...    ...                  ...    ...\n",
      "4038    4038      8     29  2012-09-30 16:30:00      2\n",
      "4039    4039      8     29  2012-09-30 18:00:00      1\n",
      "4040    4040      8     21  2012-09-30 18:30:00      1\n",
      "4041    4041      8     16  2012-09-30 19:00:00      1\n",
      "4042    4042      8     29  2012-09-30 19:30:00      1\n",
      "\n",
      "[4043 rows x 5 columns]\n"
     ]
    }
   ],
   "source": [
    "# Print and explore bookings table\n",
    "query = \"\"\"\n",
    "        SELECT *\n",
    "        FROM bookings;\n",
    "        \"\"\"\n",
    "execute_print_sql_query(query)"
   ]
  },
  {
   "cell_type": "markdown",
   "id": "8b0dfb75-dcfd-47a7-b68b-fe0fe51a3e79",
   "metadata": {},
   "source": [
    "## 1.5 SQL Querries for Business Questions<a id='1.5_Business_Questions_and_SQL_querries'></a>"
   ]
  },
  {
   "cell_type": "markdown",
   "id": "4d571ee1-3ff8-41d5-a47a-2562a4cb9f24",
   "metadata": {},
   "source": [
    "### <u> **Question 1** </u>\n",
    "##### **Some of the facilities charge a fee to members, but some do not. Write a SQL query to produce a list of the names of the facilities that do.**"
   ]
  },
  {
   "cell_type": "code",
   "execution_count": 8,
   "id": "c64f1ee0-7e4c-4d11-bfcc-74a0296f1c77",
   "metadata": {},
   "outputs": [
    {
     "name": "stdout",
     "output_type": "stream",
     "text": [
      "Size of panda's dataframe: (5, 2)\n",
      "\n",
      "             name  membercost\n",
      "0  Tennis Court 1         5.0\n",
      "1  Tennis Court 2         5.0\n",
      "2  Massage Room 1         9.9\n",
      "3  Massage Room 2         9.9\n",
      "4    Squash Court         3.5\n"
     ]
    }
   ],
   "source": [
    "query = \"\"\"\n",
    "        SELECT name, membercost\n",
    "        FROM facilities\n",
    "        WHERE membercost <> 0;\n",
    "        \"\"\"\n",
    "execute_print_sql_query(query)"
   ]
  },
  {
   "cell_type": "markdown",
   "id": "5cdab9f4-641f-47dc-b9a4-ce9278e45080",
   "metadata": {},
   "source": [
    "### <u> **Question 2** </u>\n",
    "##### **How many facilities do not charge a fee to members?**"
   ]
  },
  {
   "cell_type": "code",
   "execution_count": 9,
   "id": "56291a76-ee0d-447b-a9f3-5dc4104604fb",
   "metadata": {},
   "outputs": [
    {
     "name": "stdout",
     "output_type": "stream",
     "text": [
      "Size of panda's dataframe: (1, 1)\n",
      "\n",
      "   COUNT(name)\n",
      "0            4\n"
     ]
    }
   ],
   "source": [
    "query = \"\"\"\n",
    "        SELECT COUNT(name)\n",
    "        FROM facilities\n",
    "        WHERE membercost = 0;\n",
    "        \"\"\"\n",
    "execute_print_sql_query(query)"
   ]
  },
  {
   "cell_type": "markdown",
   "id": "7959ed1a-46c1-4759-9fae-5a2fc3397b9e",
   "metadata": {},
   "source": [
    "### <u> **Question 3** </u>\n",
    "\n",
    "##### **Write an SQL query to show a list of facilities that charge a fee to members, where the fee is less than 20% of the facility's monthly maintenance cost. Return the facid, facility name, member cost, and monthly maintenance of the facilities in question.**"
   ]
  },
  {
   "cell_type": "code",
   "execution_count": 10,
   "id": "cb38508d-0623-4ac9-b450-ed1d8be42a51",
   "metadata": {},
   "outputs": [
    {
     "name": "stdout",
     "output_type": "stream",
     "text": [
      "Size of panda's dataframe: (9, 5)\n",
      "\n",
      "   facid     facilityname  membercost  0.2*monthlymaintenance  \\\n",
      "0      0   Tennis Court 1         5.0                    40.0   \n",
      "1      1   Tennis Court 2         5.0                    40.0   \n",
      "2      2  Badminton Court         0.0                    10.0   \n",
      "3      3     Table Tennis         0.0                     2.0   \n",
      "4      4   Massage Room 1         9.9                   600.0   \n",
      "5      5   Massage Room 2         9.9                   600.0   \n",
      "6      6     Squash Court         3.5                    16.0   \n",
      "7      7    Snooker Table         0.0                     3.0   \n",
      "8      8       Pool Table         0.0                     3.0   \n",
      "\n",
      "   monthlymaintenance  \n",
      "0                 200  \n",
      "1                 200  \n",
      "2                  50  \n",
      "3                  10  \n",
      "4                3000  \n",
      "5                3000  \n",
      "6                  80  \n",
      "7                  15  \n",
      "8                  15  \n"
     ]
    }
   ],
   "source": [
    "query = \"\"\"\n",
    "        SELECT \n",
    "            facid, name AS facilityname, membercost,\n",
    "            0.2*monthlymaintenance,\n",
    "            monthlymaintenance\n",
    "        FROM facilities\n",
    "        WHERE membercost < 0.2*monthlymaintenance;\n",
    "        \"\"\"\n",
    "execute_print_sql_query(query)"
   ]
  },
  {
   "cell_type": "markdown",
   "id": "a1b60ec7-ba11-4edf-95b6-3d50e42e4fc4",
   "metadata": {},
   "source": [
    "### <u> **Question 4** </u>\n",
    "\n",
    "##### **Write an SQL query to retrieve the details of facilities with ID 1 and 5. Try writing the query without using the OR operator.**\n"
   ]
  },
  {
   "cell_type": "code",
   "execution_count": 11,
   "id": "6a88be7b-0fb4-4e70-be5f-ff9ba92f7f8b",
   "metadata": {},
   "outputs": [
    {
     "name": "stdout",
     "output_type": "stream",
     "text": [
      "Size of panda's dataframe: (2, 6)\n",
      "\n",
      "   facid            name  membercost  guestcost  initialoutlay  \\\n",
      "0      1  Tennis Court 2         5.0         25           8000   \n",
      "1      5  Massage Room 2         9.9         80           4000   \n",
      "\n",
      "   monthlymaintenance  \n",
      "0                 200  \n",
      "1                3000  \n"
     ]
    }
   ],
   "source": [
    "query = \"\"\"\n",
    "        SELECT *\n",
    "        FROM facilities\n",
    "        WHERE facid IN (1,5);\n",
    "        \"\"\"\n",
    "execute_print_sql_query(query)"
   ]
  },
  {
   "cell_type": "markdown",
   "id": "80f03809-faeb-46a1-9766-1cc264e1a5f6",
   "metadata": {},
   "source": [
    "### <u> **Question 5** </u> \n",
    "\n",
    "##### **Produce a list of facilities, with each labelled as 'cheap' or 'expensive', depending on if their monthly maintenance cost is more than $100. Return the name and monthly maintenance of the facilities in question.**\n"
   ]
  },
  {
   "cell_type": "code",
   "execution_count": 12,
   "id": "b7493fcc-fff3-4cd8-bd7e-ae8396d2f0a1",
   "metadata": {},
   "outputs": [
    {
     "name": "stdout",
     "output_type": "stream",
     "text": [
      "Size of panda's dataframe: (9, 3)\n",
      "\n",
      "              name  monthlymaintenance  cheap/expensive\n",
      "0   Tennis Court 1                 200        expensive\n",
      "1   Tennis Court 2                 200        expensive\n",
      "2  Badminton Court                  50            cheap\n",
      "3     Table Tennis                  10            cheap\n",
      "4   Massage Room 1                3000  ultra expensive\n",
      "5   Massage Room 2                3000  ultra expensive\n",
      "6     Squash Court                  80            cheap\n",
      "7    Snooker Table                  15            cheap\n",
      "8       Pool Table                  15            cheap\n"
     ]
    }
   ],
   "source": [
    "query = \"\"\"\n",
    "        SELECT name, monthlymaintenance,\n",
    "            CASE WHEN monthlymaintenance < 100 THEN 'cheap'\n",
    "                 WHEN monthlymaintenance BETWEEN 100 AND 1000 THEN 'expensive' \n",
    "                 ELSE 'ultra expensive' END AS 'cheap/expensive'\n",
    "        FROM facilities;\n",
    "        \"\"\"\n",
    "execute_print_sql_query(query)"
   ]
  },
  {
   "cell_type": "markdown",
   "id": "2f1325f4-d5e0-45c0-bf67-3ba9142526d6",
   "metadata": {},
   "source": [
    "### <u> **Question 6** </u> \n",
    "\n",
    "##### **You'd like to get the first and last name of the last member(s) who signed up. Try not to use the LIMIT clause for your solution.**"
   ]
  },
  {
   "cell_type": "code",
   "execution_count": 13,
   "id": "9001c16a-e6b5-4f87-8f05-d9a587adc726",
   "metadata": {},
   "outputs": [
    {
     "name": "stdout",
     "output_type": "stream",
     "text": [
      "Size of panda's dataframe: (1, 4)\n",
      "\n",
      "  firstname lastname             joindate  memid\n",
      "0    Darren    Smith  2012-09-26 18:08:45     37\n"
     ]
    }
   ],
   "source": [
    "query = \"\"\"\n",
    "        SELECT firstname, surname AS lastname, joindate, memid\n",
    "        FROM members\n",
    "        WHERE joindate = (SELECT MAX(joindate) \n",
    "                          FROM MEMBERS);\n",
    "        \"\"\"\n",
    "execute_print_sql_query(query)"
   ]
  },
  {
   "cell_type": "markdown",
   "id": "1fea1d33-273c-49e9-be7e-e928fd148b55",
   "metadata": {},
   "source": [
    "### <u> **Question 7** </u> \n",
    "\n",
    "##### **Produce a list of all members who have used a tennis court. Include in your output the name of the court, and the name of the member formatted as a single column. Ensure no duplicate data, and order by the member name.**"
   ]
  },
  {
   "cell_type": "markdown",
   "id": "4d0dcca5-8bfd-40c7-b351-9e63a60dc011",
   "metadata": {},
   "source": [
    "**Note:** We include `memid` in our final output to ensure that two similar names (such as `Smith, Darren` with `memid = 1` and `memid = 37`) can be identified clearly."
   ]
  },
  {
   "cell_type": "code",
   "execution_count": 14,
   "id": "9b758d52-8637-4b8e-9057-1108ccb66d53",
   "metadata": {},
   "outputs": [
    {
     "name": "stdout",
     "output_type": "stream",
     "text": [
      "Size of panda's dataframe: (46, 3)\n",
      "\n",
      "          facility              member  memid\n",
      "0   Tennis Court 2     Bader, Florence     15\n",
      "1   Tennis Court 1     Bader, Florence     15\n",
      "2   Tennis Court 1         Baker, Anne     12\n",
      "3   Tennis Court 2         Baker, Anne     12\n",
      "4   Tennis Court 2      Baker, Timothy     16\n",
      "5   Tennis Court 1      Baker, Timothy     16\n",
      "6   Tennis Court 2         Boothe, Tim      8\n",
      "7   Tennis Court 1         Boothe, Tim      8\n",
      "8   Tennis Court 1     Butters, Gerald      5\n",
      "9   Tennis Court 2     Butters, Gerald      5\n",
      "10  Tennis Court 1        Coplin, Joan     22\n",
      "11  Tennis Court 1      Crumpet, Erica     36\n",
      "12  Tennis Court 2         Dare, Nancy      7\n",
      "13  Tennis Court 1         Dare, Nancy      7\n",
      "14  Tennis Court 1      Farrell, David     28\n",
      "15  Tennis Court 2      Farrell, David     28\n",
      "16  Tennis Court 2     Farrell, Jemima     13\n",
      "17  Tennis Court 1     Farrell, Jemima     13\n",
      "18  Tennis Court 2        GUEST, GUEST      0\n",
      "19  Tennis Court 1        GUEST, GUEST      0\n",
      "20  Tennis Court 1    Genting, Matthew     20\n",
      "21  Tennis Court 1          Hunt, John     35\n",
      "22  Tennis Court 2          Hunt, John     35\n",
      "23  Tennis Court 2        Jones, David     11\n",
      "24  Tennis Court 1        Jones, David     11\n",
      "25  Tennis Court 1      Jones, Douglas     26\n",
      "26  Tennis Court 1    Joplette, Janice      4\n",
      "27  Tennis Court 2    Joplette, Janice      4\n",
      "28  Tennis Court 1       Owen, Charles     10\n",
      "29  Tennis Court 2       Owen, Charles     10\n",
      "30  Tennis Court 1       Pinker, David     17\n",
      "31  Tennis Court 2  Purview, Millicent     30\n",
      "32  Tennis Court 2         Rownam, Tim      3\n",
      "33  Tennis Court 1         Rownam, Tim      3\n",
      "34  Tennis Court 2   Rumney, Henrietta     27\n",
      "35  Tennis Court 2   Sarwin, Ramnaresh     24\n",
      "36  Tennis Court 1   Sarwin, Ramnaresh     24\n",
      "37  Tennis Court 2       Smith, Darren      1\n",
      "38  Tennis Court 1         Smith, Jack     14\n",
      "39  Tennis Court 2         Smith, Jack     14\n",
      "40  Tennis Court 1        Smith, Tracy      2\n",
      "41  Tennis Court 2        Smith, Tracy      2\n",
      "42  Tennis Court 2    Stibbons, Ponder      9\n",
      "43  Tennis Court 1    Stibbons, Ponder      9\n",
      "44  Tennis Court 2       Tracy, Burton      6\n",
      "45  Tennis Court 1       Tracy, Burton      6\n"
     ]
    }
   ],
   "source": [
    "query = \"\"\"\n",
    "        SELECT facility, (surname||', '||firstname) AS member, memid\n",
    "        FROM members\n",
    "        INNER JOIN\n",
    "                (SELECT DISTINCT memid, facility\n",
    "                 FROM bookings\n",
    "                 INNER JOIN \n",
    "                    (SELECT facid, name AS facility\n",
    "                     FROM facilities\n",
    "                     WHERE name IN ('Tennis Court 1', 'Tennis Court 2'))\n",
    "                 USING(facid))\n",
    "        USING(memid)\n",
    "        ORDER BY member;\n",
    "        \"\"\"\n",
    "execute_print_sql_query(query)\n"
   ]
  },
  {
   "cell_type": "markdown",
   "id": "a70c96c2-17fa-432d-93b3-aa0a90fe330e",
   "metadata": {},
   "source": [
    "Well, it seems only one of `Smith, Darren`'s (with `memid = 1`) used a tennis court. The other `Smith, Darren` (with `memid = 37`) did not use any tennis court. However, recall that the `Smith, Darren` (with `memid = 37`) was the last member to join (see Question 6). So, he possibly did not explore all faciltities until the time when this database was generated!"
   ]
  },
  {
   "cell_type": "code",
   "execution_count": 15,
   "id": "3e619e8a-41ee-4c95-90f4-a689006a9b94",
   "metadata": {
    "tags": []
   },
   "outputs": [
    {
     "name": "stdout",
     "output_type": "stream",
     "text": [
      "Size of panda's dataframe: (46, 3)\n",
      "\n",
      "          facility              member  memid\n",
      "0   Tennis Court 2     Bader, Florence     15\n",
      "1   Tennis Court 1     Bader, Florence     15\n",
      "2   Tennis Court 1         Baker, Anne     12\n",
      "3   Tennis Court 2         Baker, Anne     12\n",
      "4   Tennis Court 2      Baker, Timothy     16\n",
      "5   Tennis Court 1      Baker, Timothy     16\n",
      "6   Tennis Court 2         Boothe, Tim      8\n",
      "7   Tennis Court 1         Boothe, Tim      8\n",
      "8   Tennis Court 1     Butters, Gerald      5\n",
      "9   Tennis Court 2     Butters, Gerald      5\n",
      "10  Tennis Court 1        Coplin, Joan     22\n",
      "11  Tennis Court 1      Crumpet, Erica     36\n",
      "12  Tennis Court 2         Dare, Nancy      7\n",
      "13  Tennis Court 1         Dare, Nancy      7\n",
      "14  Tennis Court 1      Farrell, David     28\n",
      "15  Tennis Court 2      Farrell, David     28\n",
      "16  Tennis Court 2     Farrell, Jemima     13\n",
      "17  Tennis Court 1     Farrell, Jemima     13\n",
      "18  Tennis Court 2        GUEST, GUEST      0\n",
      "19  Tennis Court 1        GUEST, GUEST      0\n",
      "20  Tennis Court 1    Genting, Matthew     20\n",
      "21  Tennis Court 1          Hunt, John     35\n",
      "22  Tennis Court 2          Hunt, John     35\n",
      "23  Tennis Court 2        Jones, David     11\n",
      "24  Tennis Court 1        Jones, David     11\n",
      "25  Tennis Court 1      Jones, Douglas     26\n",
      "26  Tennis Court 1    Joplette, Janice      4\n",
      "27  Tennis Court 2    Joplette, Janice      4\n",
      "28  Tennis Court 1       Owen, Charles     10\n",
      "29  Tennis Court 2       Owen, Charles     10\n",
      "30  Tennis Court 1       Pinker, David     17\n",
      "31  Tennis Court 2  Purview, Millicent     30\n",
      "32  Tennis Court 2         Rownam, Tim      3\n",
      "33  Tennis Court 1         Rownam, Tim      3\n",
      "34  Tennis Court 2   Rumney, Henrietta     27\n",
      "35  Tennis Court 2   Sarwin, Ramnaresh     24\n",
      "36  Tennis Court 1   Sarwin, Ramnaresh     24\n",
      "37  Tennis Court 2       Smith, Darren      1\n",
      "38  Tennis Court 1         Smith, Jack     14\n",
      "39  Tennis Court 2         Smith, Jack     14\n",
      "40  Tennis Court 1        Smith, Tracy      2\n",
      "41  Tennis Court 2        Smith, Tracy      2\n",
      "42  Tennis Court 2    Stibbons, Ponder      9\n",
      "43  Tennis Court 1    Stibbons, Ponder      9\n",
      "44  Tennis Court 2       Tracy, Burton      6\n",
      "45  Tennis Court 1       Tracy, Burton      6\n"
     ]
    }
   ],
   "source": [
    "# Another way: Common Table Expression\n",
    "query = \"\"\"\n",
    "        WITH s AS (\n",
    "             SELECT memid, name AS facility\n",
    "             FROM bookings AS b\n",
    "             LEFT JOIN facilities AS f\n",
    "             ON f.facid = b.facid\n",
    "             WHERE name IN ('Tennis Court 1', 'Tennis Court 2')\n",
    "        )      \n",
    "        SELECT DISTINCT facility, (surname||', '||firstname) AS member, memid\n",
    "        FROM members\n",
    "        INNER JOIN s\n",
    "        USING(memid)\n",
    "        ORDER BY member;\n",
    "        \"\"\"\n",
    "execute_print_sql_query(query)"
   ]
  },
  {
   "cell_type": "markdown",
   "id": "da8e92ee-eaa3-4ed7-bbe8-c201d451354c",
   "metadata": {},
   "source": [
    "### <u> **Question 8** </u>\n",
    "\n",
    "##### **Produce a list of bookings on the day of 2012-09-14 which will cost the member (or guest) more than \\$30. Remember that guests have different costs to members (the listed costs are per half-hour 'slot'), and the guest user's ID is always 0. Include in your output the name of the facility, the name of the member formatted as a single column, and the cost. Order by descending cost, and do not use any subqueries.**"
   ]
  },
  {
   "cell_type": "code",
   "execution_count": 16,
   "id": "d2475bf8-7423-4357-aaa3-9d16cab78676",
   "metadata": {},
   "outputs": [
    {
     "name": "stdout",
     "output_type": "stream",
     "text": [
      "Size of panda's dataframe: (12, 4)\n",
      "\n",
      "      facilityname           member   cost            starttime\n",
      "0   Massage Room 2     GUEST, GUEST  320.0  2012-09-14 11:00:00\n",
      "1   Massage Room 1     GUEST, GUEST  160.0  2012-09-14 09:00:00\n",
      "2   Massage Room 1     GUEST, GUEST  160.0  2012-09-14 13:00:00\n",
      "3   Massage Room 1     GUEST, GUEST  160.0  2012-09-14 16:00:00\n",
      "4   Tennis Court 2     GUEST, GUEST  150.0  2012-09-14 17:00:00\n",
      "5   Tennis Court 1     GUEST, GUEST   75.0  2012-09-14 16:00:00\n",
      "6   Tennis Court 1     GUEST, GUEST   75.0  2012-09-14 19:00:00\n",
      "7   Tennis Court 2     GUEST, GUEST   75.0  2012-09-14 14:00:00\n",
      "8     Squash Court     GUEST, GUEST   70.0  2012-09-14 09:30:00\n",
      "9   Massage Room 1  Farrell, Jemima   39.6  2012-09-14 14:00:00\n",
      "10    Squash Court     GUEST, GUEST   35.0  2012-09-14 12:30:00\n",
      "11    Squash Court     GUEST, GUEST   35.0  2012-09-14 15:00:00\n"
     ]
    }
   ],
   "source": [
    "query = \"\"\"\n",
    "        SELECT  f.name AS facilityname,\n",
    "                (surname||', '||firstname) AS member,\n",
    "                CASE WHEN memid = 0 THEN slots*guestcost\n",
    "                     WHEN memid BETWEEN 1 AND 37 THEN slots*membercost\n",
    "                     END AS cost,\n",
    "                starttime\n",
    "        FROM bookings\n",
    "        INNER JOIN members\n",
    "        USING (memid)\n",
    "        INNER JOIN facilities AS f\n",
    "        USING(facid)\n",
    "        WHERE starttime LIKE '%2012-09-14%' AND cost > 30\n",
    "        ORDER BY cost DESC;\n",
    "        \"\"\"\n",
    "execute_print_sql_query(query)"
   ]
  },
  {
   "cell_type": "markdown",
   "id": "cb5234e5-2c7c-4af2-b74b-2d2c9b0d7a96",
   "metadata": {},
   "source": [
    "### <u> **Question 9** </u>\n",
    "\n",
    "##### **This time, produce the same result as in Q8, but using a subquery.**"
   ]
  },
  {
   "cell_type": "code",
   "execution_count": 17,
   "id": "f0029a40-8560-472c-a563-4e05bf2edc1a",
   "metadata": {},
   "outputs": [
    {
     "name": "stdout",
     "output_type": "stream",
     "text": [
      "Size of panda's dataframe: (12, 4)\n",
      "\n",
      "      facilityname           member   cost            starttime\n",
      "0   Massage Room 2     GUEST, GUEST  320.0  2012-09-14 11:00:00\n",
      "1   Massage Room 1     GUEST, GUEST  160.0  2012-09-14 09:00:00\n",
      "2   Massage Room 1     GUEST, GUEST  160.0  2012-09-14 13:00:00\n",
      "3   Massage Room 1     GUEST, GUEST  160.0  2012-09-14 16:00:00\n",
      "4   Tennis Court 2     GUEST, GUEST  150.0  2012-09-14 17:00:00\n",
      "5   Tennis Court 1     GUEST, GUEST   75.0  2012-09-14 16:00:00\n",
      "6   Tennis Court 1     GUEST, GUEST   75.0  2012-09-14 19:00:00\n",
      "7   Tennis Court 2     GUEST, GUEST   75.0  2012-09-14 14:00:00\n",
      "8     Squash Court     GUEST, GUEST   70.0  2012-09-14 09:30:00\n",
      "9   Massage Room 1  Farrell, Jemima   39.6  2012-09-14 14:00:00\n",
      "10    Squash Court     GUEST, GUEST   35.0  2012-09-14 12:30:00\n",
      "11    Squash Court     GUEST, GUEST   35.0  2012-09-14 15:00:00\n"
     ]
    }
   ],
   "source": [
    "query = \"\"\"\n",
    "        SELECT  f.name AS facilityname, (surname||', '||firstname) AS member,\n",
    "                CASE WHEN memid = 0 THEN slots*guestcost\n",
    "                     WHEN memid BETWEEN 1 AND 37 THEN slots*membercost\n",
    "                     END AS cost,\n",
    "                starttime\n",
    "        FROM facilities AS f\n",
    "        INNER JOIN\n",
    "            (SELECT facid, memid, slots, starttime\n",
    "             FROM bookings\n",
    "            ) -- using a subquery\n",
    "        USING(facid)\n",
    "        INNER JOIN members\n",
    "        USING(memid)\n",
    "        WHERE starttime LIKE '%2012-09-14%' AND cost > 30\n",
    "        ORDER BY cost DESC;\n",
    "        \"\"\"\n",
    "\n",
    "execute_print_sql_query(query)"
   ]
  },
  {
   "cell_type": "code",
   "execution_count": 18,
   "id": "0a1c11a0-4f87-48e4-a858-d6357c4f274e",
   "metadata": {},
   "outputs": [
    {
     "name": "stdout",
     "output_type": "stream",
     "text": [
      "Size of panda's dataframe: (12, 4)\n",
      "\n",
      "      facilityname           member   cost            starttime\n",
      "0   Massage Room 2     GUEST, GUEST  320.0  2012-09-14 11:00:00\n",
      "1   Massage Room 1     GUEST, GUEST  160.0  2012-09-14 09:00:00\n",
      "2   Massage Room 1     GUEST, GUEST  160.0  2012-09-14 13:00:00\n",
      "3   Massage Room 1     GUEST, GUEST  160.0  2012-09-14 16:00:00\n",
      "4   Tennis Court 2     GUEST, GUEST  150.0  2012-09-14 17:00:00\n",
      "5   Tennis Court 1     GUEST, GUEST   75.0  2012-09-14 16:00:00\n",
      "6   Tennis Court 1     GUEST, GUEST   75.0  2012-09-14 19:00:00\n",
      "7   Tennis Court 2     GUEST, GUEST   75.0  2012-09-14 14:00:00\n",
      "8     Squash Court     GUEST, GUEST   70.0  2012-09-14 09:30:00\n",
      "9   Massage Room 1  Farrell, Jemima   39.6  2012-09-14 14:00:00\n",
      "10    Squash Court     GUEST, GUEST   35.0  2012-09-14 12:30:00\n",
      "11    Squash Court     GUEST, GUEST   35.0  2012-09-14 15:00:00\n"
     ]
    }
   ],
   "source": [
    "# Another way: Without CASE Statement and using SET operation & Common Table Expression\n",
    "query = \"\"\"\n",
    "        WITH s AS(\n",
    "            SELECT memid, name AS facilityname, slots*membercost AS cost,\n",
    "                    starttime\n",
    "            FROM bookings\n",
    "            INNER JOIN facilities\n",
    "            USING(facid)\n",
    "            WHERE memid <> 0 AND starttime LIKE '%2012-09-14%' AND cost > 30 -- using a subquery\n",
    "            UNION \n",
    "            SELECT memid, name AS facilityname, slots*guestcost AS cost,\n",
    "                    starttime\n",
    "            FROM bookings\n",
    "            INNER JOIN facilities\n",
    "            USING(facid)\n",
    "            WHERE memid = 0 AND starttime LIKE '%2012-09-14%' AND cost > 30 -- using a subquery\n",
    "        )\n",
    "        SELECT facilityname, (surname||', '||firstname) AS member, cost, starttime\n",
    "        FROM members\n",
    "        INNER JOIN s\n",
    "        USING(memid)\n",
    "        ORDER BY cost DESC;\n",
    "        \"\"\"\n",
    "\n",
    "execute_print_sql_query(query)\n"
   ]
  },
  {
   "cell_type": "markdown",
   "id": "e11dc545-f983-4c8b-a72a-aa13b6d99563",
   "metadata": {},
   "source": [
    "### <u> **Question 10** </u>\n",
    "    \n",
    "##### **Produce a list of facilities with a total revenue less than 1000. The output of facility name and total revenue, sorted by revenue. Remember that there's a different cost for guests and members!**"
   ]
  },
  {
   "cell_type": "code",
   "execution_count": 19,
   "id": "51450b4b-6b6f-4585-aec9-505fcb9a02d4",
   "metadata": {},
   "outputs": [
    {
     "name": "stdout",
     "output_type": "stream",
     "text": [
      "Size of panda's dataframe: (3, 2)\n",
      "\n",
      "        facility  totalrevenue\n",
      "0   Table Tennis           180\n",
      "1  Snooker Table           240\n",
      "2     Pool Table           270\n"
     ]
    }
   ],
   "source": [
    "# Using HAVING clause\n",
    "query = \"\"\"\n",
    "        SELECT facility, SUM(revenue) AS totalrevenue\n",
    "        FROM\n",
    "            (SELECT name AS facility,\n",
    "                CASE WHEN memid = 0 THEN slots*guestcost\n",
    "                     WHEN memid BETWEEN 1 AND 37 THEN slots*membercost\n",
    "                     END AS revenue\n",
    "             FROM bookings\n",
    "             INNER JOIN facilities\n",
    "             USING(facid)\n",
    "            )\n",
    "        GROUP BY facility\n",
    "        HAVING SUM(revenue) < 1000 -- Use HAVING clause here\n",
    "--        HAVING totalrevenue < 1000 -- Use HAVING clause here\n",
    "--        WHERE totalrevenue < 1000 -- WHERE clause will cause error here because it is applied on aggregrate function SUM()\n",
    "        ORDER BY totalrevenue;\n",
    "        \"\"\"\n",
    "\n",
    "execute_print_sql_query(query)"
   ]
  },
  {
   "cell_type": "code",
   "execution_count": 20,
   "id": "0f5b16f7-fc96-40b1-a2a6-d09de56fd490",
   "metadata": {},
   "outputs": [
    {
     "name": "stdout",
     "output_type": "stream",
     "text": [
      "Size of panda's dataframe: (3, 2)\n",
      "\n",
      "        facility  totalrevenue\n",
      "0   Table Tennis           180\n",
      "1  Snooker Table           240\n",
      "2     Pool Table           270\n"
     ]
    }
   ],
   "source": [
    "# Without HAVING clause. Using WHERE clause.\n",
    "query = \"\"\"\n",
    "        SELECT facility, (m.total_revenue+g.total_revenue) AS totalrevenue\n",
    "        FROM\n",
    "            (SELECT facility, SUM(revenue) AS total_revenue\n",
    "             FROM (SELECT facid, name AS facility, slots*membercost AS revenue\n",
    "                   FROM bookings\n",
    "                   INNER JOIN facilities\n",
    "                   USING(facid)\n",
    "                   WHERE memid <> 0\n",
    "                   )\n",
    "             GROUP BY facility) AS m\n",
    "        INNER JOIN\n",
    "            (SELECT facility, SUM(revenue) AS total_revenue\n",
    "            FROM (SELECT facid, name AS facility, slots*guestcost AS revenue\n",
    "                  FROM bookings\n",
    "                  INNER JOIN facilities\n",
    "                  USING(facid)\n",
    "                  WHERE memid = 0\n",
    "                 )\n",
    "            GROUP BY facility) AS g\n",
    "        USING(facility)\n",
    "        WHERE totalrevenue < 1000\n",
    "        ORDER BY totalrevenue;\n",
    "        \"\"\"\n",
    "\n",
    "execute_print_sql_query(query)\n"
   ]
  },
  {
   "cell_type": "markdown",
   "id": "4f4e1bdf-a53a-4c0c-afd3-fd805d06f2cf",
   "metadata": {},
   "source": [
    "### <u> **Question 11** </u>\n",
    "\n",
    "##### **Produce a report of members and who recommended them in alphabetic surname,firstname order.**"
   ]
  },
  {
   "cell_type": "code",
   "execution_count": 21,
   "id": "6ce1a5fc-d3a3-4cb1-a79e-1f0a64d45171",
   "metadata": {},
   "outputs": [
    {
     "name": "stdout",
     "output_type": "stream",
     "text": [
      "Size of panda's dataframe: (22, 4)\n",
      "\n",
      "    memid                    member         recommender recommendedby\n",
      "0      15           Bader, Florence    Stibbons, Ponder             9\n",
      "1      12               Baker, Anne    Stibbons, Ponder             9\n",
      "2      16            Baker, Timothy     Farrell, Jemima            13\n",
      "3       8               Boothe, Tim         Rownam, Tim             3\n",
      "4       5           Butters, Gerald       Smith, Darren             1\n",
      "5      22              Coplin, Joan      Baker, Timothy            16\n",
      "6      36            Crumpet, Erica        Smith, Tracy             2\n",
      "7       7               Dare, Nancy    Joplette, Janice             4\n",
      "8      20          Genting, Matthew     Butters, Gerald             5\n",
      "9      35                Hunt, John  Purview, Millicent            30\n",
      "10     11              Jones, David    Joplette, Janice             4\n",
      "11     26            Jones, Douglas        Jones, David            11\n",
      "12      4          Joplette, Janice       Smith, Darren             1\n",
      "13     21           Mackenzie, Anna       Smith, Darren             1\n",
      "14     10             Owen, Charles       Smith, Darren             1\n",
      "15     17             Pinker, David     Farrell, Jemima            13\n",
      "16     30        Purview, Millicent        Smith, Tracy             2\n",
      "17     27         Rumney, Henrietta    Genting, Matthew            20\n",
      "18     24         Sarwin, Ramnaresh     Bader, Florence            15\n",
      "19     14               Smith, Jack       Smith, Darren             1\n",
      "20      9          Stibbons, Ponder       Tracy, Burton             6\n",
      "21     29  Worthington-Smyth, Henry        Smith, Tracy             2\n"
     ]
    }
   ],
   "source": [
    "query = \"\"\"\n",
    "        SELECT r.memid, (r.surname||', '||r.firstname) AS member,\n",
    "               (m.surname||', '||m.firstname) AS recommender, r.recommendedby\n",
    "        FROM members as m\n",
    "        INNER JOIN members as r\n",
    "        ON m.memid = r.recommendedby\n",
    "        ORDER BY member;\n",
    "        \"\"\"\n",
    "execute_print_sql_query(query)"
   ]
  },
  {
   "cell_type": "markdown",
   "id": "fcee13c2-1cf5-4192-a97a-d39c670a4e85",
   "metadata": {},
   "source": [
    "### <u> **Question 12** </u>\n",
    "\n",
    "##### **Find the facilities with their usage by member, but not guests.**"
   ]
  },
  {
   "cell_type": "code",
   "execution_count": 22,
   "id": "9f3d443b-b239-4249-bc58-0e121076b446",
   "metadata": {},
   "outputs": [
    {
     "name": "stdout",
     "output_type": "stream",
     "text": [
      "Size of panda's dataframe: (202, 3)\n",
      "\n",
      "            facility            member  usagehour\n",
      "0    Badminton Court   Bader, Florence       13.5\n",
      "1    Badminton Court       Baker, Anne       15.0\n",
      "2    Badminton Court    Baker, Timothy       10.5\n",
      "3    Badminton Court       Boothe, Tim       18.0\n",
      "4    Badminton Court   Butters, Gerald       31.5\n",
      "..               ...               ...        ...\n",
      "197   Tennis Court 2     Smith, Darren       28.5\n",
      "198   Tennis Court 2       Smith, Jack        1.5\n",
      "199   Tennis Court 2      Smith, Tracy        3.0\n",
      "200   Tennis Court 2  Stibbons, Ponder       48.0\n",
      "201   Tennis Court 2     Tracy, Burton        4.5\n",
      "\n",
      "[202 rows x 3 columns]\n"
     ]
    }
   ],
   "source": [
    "query = \"\"\"\n",
    "        SELECT name as facility, (surname||', '||firstname) AS member, SUM(0.5*slots) AS usagehour\n",
    "        FROM bookings\n",
    "        INNER JOIN facilities\n",
    "        USING(facid)\n",
    "        INNER JOIN members\n",
    "        USING(memid)\n",
    "        WHERE memid <> 0\n",
    "        GROUP BY facility, member;\n",
    "        \"\"\"\n",
    "\n",
    "execute_print_sql_query(query)\n"
   ]
  },
  {
   "cell_type": "code",
   "execution_count": 23,
   "id": "2f12562d-5ae6-4533-89db-7bfcdcb0bc7d",
   "metadata": {},
   "outputs": [],
   "source": [
    "# Another way: Easy to read but with nested subquerries\n",
    "# query = \"\"\"\n",
    "#         SELECT name AS facility, member, usagehour\n",
    "#         FROM\n",
    "#             (SELECT facid, (surname||', '||firstname) AS member, usagehour\n",
    "#              FROM \n",
    "#                 (SELECT facid, memid, SUM(0.5*slots) AS usagehour\n",
    "#                  FROM bookings\n",
    "#                  WHERE memid <> 0\n",
    "#                  GROUP BY facid, memid\n",
    "#                 )\n",
    "#              INNER JOIN members\n",
    "#              USING(memid)\n",
    "#              GROUP BY facid, member\n",
    "#             )\n",
    "#          INNER JOIN facilities\n",
    "#          USING(facid)\n",
    "#          GROUP BY facility, member;\n",
    "#         \"\"\"\n",
    "# execute_print_sql_query(query)\n"
   ]
  },
  {
   "cell_type": "markdown",
   "id": "067e35f4-5c2e-48a5-b00b-26833f7416af",
   "metadata": {},
   "source": [
    "### <u> **Question 13** </u>\n",
    "##### **Find the facilities usage by month, but not guests.**"
   ]
  },
  {
   "cell_type": "code",
   "execution_count": 24,
   "id": "be6bf60f-0f51-473e-b40d-03cdba7fdbf8",
   "metadata": {},
   "outputs": [
    {
     "name": "stdout",
     "output_type": "stream",
     "text": [
      "Size of panda's dataframe: (27, 3)\n",
      "\n",
      "           facility month_Y2012  usagehour\n",
      "0   Badminton Court          07       82.5\n",
      "1   Badminton Court          08      207.0\n",
      "2   Badminton Court          09      253.5\n",
      "3    Massage Room 1          07       83.0\n",
      "4    Massage Room 1          08      158.0\n",
      "5    Massage Room 1          09      201.0\n",
      "6    Massage Room 2          07        4.0\n",
      "7    Massage Room 2          08        9.0\n",
      "8    Massage Room 2          09       14.0\n",
      "9        Pool Table          07       55.0\n",
      "10       Pool Table          08      151.5\n",
      "11       Pool Table          09      221.5\n",
      "12    Snooker Table          07       70.0\n",
      "13    Snooker Table          08      158.0\n",
      "14    Snooker Table          09      202.0\n",
      "15     Squash Court          07       25.0\n",
      "16     Squash Court          08       92.0\n",
      "17     Squash Court          09       92.0\n",
      "18     Table Tennis          07       49.0\n",
      "19     Table Tennis          08      148.0\n",
      "20     Table Tennis          09      200.0\n",
      "21   Tennis Court 1          07      100.5\n",
      "22   Tennis Court 1          08      169.5\n",
      "23   Tennis Court 1          09      208.5\n",
      "24   Tennis Court 2          07       61.5\n",
      "25   Tennis Court 2          08      172.5\n",
      "26   Tennis Court 2          09      207.0\n"
     ]
    }
   ],
   "source": [
    "query = \"\"\"\n",
    "        SELECT name as facility, strftime('%m', starttime) AS month_Y2012, SUM(0.5*slots) AS usagehour\n",
    "        FROM bookings\n",
    "        INNER JOIN facilities\n",
    "        USING(facid)\n",
    "        WHERE memid <> 0\n",
    "        GROUP BY facility, month_Y2012;\n",
    "        \"\"\"\n",
    "execute_print_sql_query(query)\n"
   ]
  }
 ],
 "metadata": {
  "kernelspec": {
   "display_name": "Python 3",
   "language": "python",
   "name": "python3"
  },
  "language_info": {
   "codemirror_mode": {
    "name": "ipython",
    "version": 3
   },
   "file_extension": ".py",
   "mimetype": "text/x-python",
   "name": "python",
   "nbconvert_exporter": "python",
   "pygments_lexer": "ipython3",
   "version": "3.9.0"
  }
 },
 "nbformat": 4,
 "nbformat_minor": 5
}
