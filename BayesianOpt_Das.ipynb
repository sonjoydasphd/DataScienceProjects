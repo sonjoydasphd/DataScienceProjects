{
 "cells": [
  {
   "cell_type": "markdown",
   "metadata": {
    "id": "WNK7vbHo-KYU"
   },
   "source": [
    "# Bayesian Optimization: Hyperparameter Tuning of Light GBM for Flight Departures\n",
    "by [Sonjoy Das, PhD](https://www.linkedin.com/in/sonjoydas/)"
   ]
  },
  {
   "cell_type": "markdown",
   "metadata": {
    "id": "BlFdvPwF-KYW"
   },
   "source": [
    "In addition to the random search and the grid search methods for selecting optimal hyperparameters, we can use Bayesian methods to select the optimal hyperparameters for an algorithm.\n",
    "\n",
    "In this work, we will use **two packages** to implement the *Bayesian global optimization with Gaussian processes* to perform hyperparmater tuning. We will use the flight departures dataset for both packages. \n",
    "\n",
    "+ One of the packages is `BayesianOptimization` whose documentation can be found here: https://github.com/fmfn/BayesianOptimization.\n",
    "\n",
    "+ The other package is `scikit-optimize` package (re: [documentation](https://scikit-optimize.github.io/stable/)). We will implement `BayesSearchCV` which is `scikit-learn` hyperparameter search wrapper (re: [skopt.BayesSearchCV](https://scikit-optimize.github.io/stable/modules/generated/skopt.BayesSearchCV.html)). For a simple illustration on `scikit-optimize`'s `BayesSearchCV` , watch this YouTube [video](https://youtu.be/ECNU4WIuhSE).\n",
    "\n",
    "For `BayesianOptimization`, we will optimize the cross-validation (re: [lightgbm.cv](https://lightgbm.readthedocs.io/en/latest/pythonapi/lightgbm.cv.html)) performance of [*binary* log loss classification](https://lightgbm.readthedocs.io/en/latest/Parameters.html#:~:text=binary%20log%20loss%20classification) through LightGBM (re: [LightGBM](https://lightgbm.readthedocs.io/en/latest/)) which is a gradient boosting framework.\n",
    "\n",
    "For `BayesSearchCV`, we will again use [*binary* log loss classification](https://lightgbm.readthedocs.io/en/latest/Parameters.html#:~:text=binary%20log%20loss%20classification) in `lightgbm.LGBMClassifier` (re: [lightgbm.LGBMClassifier](https://lightgbm.readthedocs.io/en/latest/pythonapi/lightgbm.LGBMClassifier.html)) whose hyper parameters will be optimized by employing Bayesian optimization and cross-validation.\n",
    "\n",
    "Note that in contrast to `GridSearchCV`, not all hyperparameter **values** are tried out in hyperparameter tuning through Bayesian optimization, but rather a fixed number of hyperparameter settings is sampled from specified distributions. The number of hyperparameter settings that are tried is given by `n_iter`.\n",
    "\n",
    "A **third option** to tune the hyperparameters of a ML model is to use `scikit-learn`'s `gp_minimize` [algorithm](https://scikit-optimize.github.io/stable/modules/generated/skopt.gp_minimize.html) that relies on Bayesian optimization using Gaussian Processes. The implementation scheme is very similar to the `BayesianOptimization` library we mentioned above. An illustration is provided [here](https://scikit-optimize.github.io/stable/auto_examples/hyperparameter-optimization.html). But, we will not discuss this here in this notebook.\n",
    "\n",
    "**Side Note**: If `pip install lightgbm` (re: [LightGBM Installation](https://pypi.org/project/lightgbm/)) does not work, then you can [build from GitHub](https://lightgbm.readthedocs.io/en/latest/Installation-Guide.html#build-from-github) and then go to `/python-package` under the directory where you built it, and [run](https://stackoverflow.com/questions/44212706/why-importerror-no-module-named-lightgbm#:~:text=run%20%27python%20setup.py%20install%27.) `python setup.py install`."
   ]
  },
  {
   "cell_type": "code",
   "execution_count": 1,
   "metadata": {
    "ExecuteTime": {
     "end_time": "2019-04-22T16:39:09.312682Z",
     "start_time": "2019-04-22T16:39:09.309208Z"
    },
    "_kg_hide-input": true,
    "id": "l9nfFTyj-KYY"
   },
   "outputs": [],
   "source": [
    "from bayes_opt import BayesianOptimization\n",
    "import pandas as pd\n",
    "\n",
    "from sklearn.preprocessing import LabelEncoder\n",
    "import numpy as np\n",
    "\n",
    "import lightgbm\n",
    "\n",
    "from skopt.space import Real, Categorical, Integer\n",
    "from skopt import BayesSearchCV"
   ]
  },
  {
   "cell_type": "markdown",
   "metadata": {
    "ExecuteTime": {
     "end_time": "2019-04-22T14:48:15.929012Z",
     "start_time": "2019-04-22T14:48:15.926574Z"
    },
    "id": "AkBt3yds-KYu"
   },
   "source": [
    "## How does Bayesian optimization work?"
   ]
  },
  {
   "cell_type": "markdown",
   "metadata": {
    "id": "E1kyBCUs-KYv"
   },
   "source": [
    "Bayesian optimization works by constructing a posterior distribution of functions (Gaussian process) that best describes the function you want to optimize. As the number of observations grows, the posterior distribution improves, and the algorithm becomes more certain of which regions in parameter space are worth exploring and which are not, as seen in the picture below.\n",
    "\n",
    "<img src=\"https://github.com/fmfn/BayesianOptimization/blob/master/examples/bo_example.png?raw=true\" />"
   ]
  },
  {
   "cell_type": "markdown",
   "metadata": {
    "id": "gAdHF72R-KYw"
   },
   "source": [
    "As you iterate over and over, the algorithm balances its needs of exploration and exploitation while taking into account what it knows about the target function. At each step, a Gaussian Process is fitted to the known samples (points previously explored), and the posterior distribution, combined with an exploration strategy (such as UCB — aka Upper Confidence Bound), or EI (Expected Improvement). This process is used to determine the next point that should be explored (see the gif below).\n",
    "<img src=\"https://github.com/fmfn/BayesianOptimization/raw/master/examples/bayesian_optimization.gif\" />"
   ]
  },
  {
   "cell_type": "markdown",
   "metadata": {
    "id": "UtL7eWv_d_9H"
   },
   "source": [
    "This process is designed to minimize the number of steps required to find a combination of parameters that are close to the optimal combination. To do so, this method uses a proxy optimization problem (finding the maximum of the acquisition function) that, albeit still a hard problem, is cheaper (in the computational sense) and common tools can be employed. Therefore, Bayesian Optimization is most adequate for situations where sampling the function to be optimized is a very expensive endeavor. See the [References](https://github.com/fmfn/BayesianOptimization#references:~:text=Scikit%2Dlearn-,References,-%3A) section in the `BayesianOptimization` library documentation for a proper discussion of this method."
   ]
  },
  {
   "cell_type": "markdown",
   "metadata": {
    "id": "RTP8KUlLoYzu"
   },
   "source": [
    "## Let's look at a simple example"
   ]
  },
  {
   "cell_type": "markdown",
   "metadata": {},
   "source": [
    "### Using `BayesianOptimization` library"
   ]
  },
  {
   "cell_type": "markdown",
   "metadata": {
    "id": "crpPqKdC-KYx"
   },
   "source": [
    "The first step is to create an optimizer. It uses two items:\n",
    "* function to optimize\n",
    "* bounds of parameters\n",
    "\n",
    "The function is the procedure that counts metrics of our model quality. The important thing is that our optimization will maximize the value of function. Smaller metrics are best. <u>Hint</u>: don't forget to use negative metric values."
   ]
  },
  {
   "cell_type": "markdown",
   "metadata": {
    "id": "e09ciF8gpTfr"
   },
   "source": [
    "Here we define our simple function we want to optimize:"
   ]
  },
  {
   "cell_type": "code",
   "execution_count": 2,
   "metadata": {
    "id": "ofwvnfEwo5mG"
   },
   "outputs": [],
   "source": [
    "def simple_func(a, b):\n",
    "    return a + b"
   ]
  },
  {
   "cell_type": "markdown",
   "metadata": {
    "id": "XCGsdciCpeI3"
   },
   "source": [
    "Now, we define our bounds of the parameters to optimize, within the Bayesian optimizer."
   ]
  },
  {
   "cell_type": "code",
   "execution_count": 3,
   "metadata": {
    "id": "4jLYW2qnpOFr"
   },
   "outputs": [],
   "source": [
    "# Bounded region of parameter space\n",
    "pbounds = {'a': (1, 3),\n",
    "           'b': (4, 7)}\n",
    "\n",
    "optimizer = BayesianOptimization(\n",
    "                                 f = simple_func,\n",
    "                                 pbounds = pbounds,\n",
    "                                 random_state=1                                \n",
    "                                )"
   ]
  },
  {
   "cell_type": "markdown",
   "metadata": {
    "id": "dg6LdYx8pq2T"
   },
   "source": [
    "There are many parameters to pass to optimize, nonetheless, the most important ones are:\n",
    "\n",
    "* `n_iter`: How many steps of bayesian optimization you want to perform. The more steps the more likely to find a good optimal you are.\n",
    "\n",
    "* `init_points`: How many steps of random exploration you want to perform. Random exploration can help by diversifying the exploration space."
   ]
  },
  {
   "cell_type": "markdown",
   "metadata": {
    "id": "i-GKMJ1uqMYv"
   },
   "source": [
    "Let's run an example where we use the optimizer to find the best values to *maximize* the target value for `a` and `b` given the inputs of `init_points = 2` and `n_iter = 3`."
   ]
  },
  {
   "cell_type": "code",
   "execution_count": 4,
   "metadata": {
    "colab": {
     "base_uri": "https://localhost:8080/"
    },
    "id": "Oy44Ro7wqNat",
    "outputId": "14801a5c-0827-420f-e4b5-334939a26ac9"
   },
   "outputs": [
    {
     "name": "stdout",
     "output_type": "stream",
     "text": [
      "|   iter    |  target   |     a     |     b     |\n",
      "-------------------------------------------------\n",
      "| \u001b[0m1        \u001b[0m | \u001b[0m7.995    \u001b[0m | \u001b[0m1.834    \u001b[0m | \u001b[0m6.161    \u001b[0m |\n",
      "| \u001b[0m2        \u001b[0m | \u001b[0m5.907    \u001b[0m | \u001b[0m1.0      \u001b[0m | \u001b[0m4.907    \u001b[0m |\n",
      "| \u001b[0m3        \u001b[0m | \u001b[0m6.324    \u001b[0m | \u001b[0m1.218    \u001b[0m | \u001b[0m5.107    \u001b[0m |\n",
      "| \u001b[95m4        \u001b[0m | \u001b[95m9.162    \u001b[0m | \u001b[95m2.797    \u001b[0m | \u001b[95m6.365    \u001b[0m |\n",
      "| \u001b[95m5        \u001b[0m | \u001b[95m10.0     \u001b[0m | \u001b[95m3.0      \u001b[0m | \u001b[95m7.0      \u001b[0m |\n",
      "=================================================\n"
     ]
    }
   ],
   "source": [
    "# optimizer.maximize(3,2)\n",
    "\n",
    "optimizer.maximize(\n",
    "    init_points=2,\n",
    "    n_iter=3,\n",
    ")"
   ]
  },
  {
   "cell_type": "markdown",
   "metadata": {
    "id": "tyKFMF2Hq2Sx"
   },
   "source": [
    "Great, now let's print the best parameters and the associated maximized target, which can be accessed via the property `optimizer.max`."
   ]
  },
  {
   "cell_type": "code",
   "execution_count": 5,
   "metadata": {
    "colab": {
     "base_uri": "https://localhost:8080/"
    },
    "id": "6BDiMDZ7d_9S",
    "outputId": "c8158b38-3bca-49dd-c883-17747fc1195c"
   },
   "outputs": [
    {
     "name": "stdout",
     "output_type": "stream",
     "text": [
      "{'target': 10.0, 'params': {'a': 3.0, 'b': 7.0}}\n"
     ]
    }
   ],
   "source": [
    "print(optimizer.max)"
   ]
  },
  {
   "cell_type": "markdown",
   "metadata": {
    "id": "ay8p2VY4d_9T"
   },
   "source": [
    "Or, we can print separately as follows:"
   ]
  },
  {
   "cell_type": "code",
   "execution_count": 6,
   "metadata": {
    "colab": {
     "base_uri": "https://localhost:8080/"
    },
    "id": "_H6DixyfscV_",
    "outputId": "563f2fe8-d407-4e4b-adb7-5c73bff1fd86"
   },
   "outputs": [
    {
     "name": "stdout",
     "output_type": "stream",
     "text": [
      "{'a': 3.0, 'b': 7.0}\n",
      "10.0\n"
     ]
    }
   ],
   "source": [
    "print(optimizer.max['params'])\n",
    "print(optimizer.max['target'])"
   ]
  },
  {
   "cell_type": "markdown",
   "metadata": {
    "id": "s-eNClWVd_9V"
   },
   "source": [
    "While the list of all parameters probed and their corresponding target values is available via the property `optimizer.res`."
   ]
  },
  {
   "cell_type": "code",
   "execution_count": 7,
   "metadata": {
    "colab": {
     "base_uri": "https://localhost:8080/"
    },
    "id": "Lv04YYc1d_9V",
    "outputId": "c9c63f39-bb63-4d77-9920-d2dff9076c47"
   },
   "outputs": [
    {
     "name": "stdout",
     "output_type": "stream",
     "text": [
      "Iteration 0: \n",
      "\t{'target': 7.995017489731622, 'params': {'a': 1.834044009405148, 'b': 6.160973480326474}}\n",
      "\n",
      "Iteration 1: \n",
      "\t{'target': 5.90722646753021, 'params': {'a': 1.0002287496346898, 'b': 4.9069977178955195}}\n",
      "\n",
      "Iteration 2: \n",
      "\t{'target': 6.3241901394458235, 'params': {'a': 1.2175526295255183, 'b': 5.106637509920305}}\n",
      "\n",
      "Iteration 3: \n",
      "\t{'target': 9.16207290732246, 'params': {'a': 2.7966872435398873, 'b': 6.365385663782572}}\n",
      "\n",
      "Iteration 4: \n",
      "\t{'target': 10.0, 'params': {'a': 3.0, 'b': 7.0}}\n",
      "\n"
     ]
    }
   ],
   "source": [
    "for i, res in enumerate(optimizer.res):\n",
    "    print(f\"Iteration {i}: \\n\\t{res}\\n\")"
   ]
  },
  {
   "cell_type": "markdown",
   "metadata": {
    "id": "DAubsQU2d_9W"
   },
   "source": [
    "To produce a tidy output, we can round off the values."
   ]
  },
  {
   "cell_type": "code",
   "execution_count": 8,
   "metadata": {
    "colab": {
     "base_uri": "https://localhost:8080/"
    },
    "id": "uYYrOP1bd_9W",
    "outputId": "60890b0b-0c68-4a35-87b7-c35a49256401"
   },
   "outputs": [
    {
     "name": "stdout",
     "output_type": "stream",
     "text": [
      "Iteration 0: \n",
      "\t{'target': 7.995, 'params': {'a': 1.834, 'b': 6.161}}\n",
      "\n",
      "Iteration 1: \n",
      "\t{'target': 5.907, 'params': {'a': 1.0, 'b': 4.907}}\n",
      "\n",
      "Iteration 2: \n",
      "\t{'target': 6.324, 'params': {'a': 1.218, 'b': 5.107}}\n",
      "\n",
      "Iteration 3: \n",
      "\t{'target': 9.162, 'params': {'a': 2.797, 'b': 6.365}}\n",
      "\n",
      "Iteration 4: \n",
      "\t{'target': 10.0, 'params': {'a': 3.0, 'b': 7.0}}\n",
      "\n"
     ]
    }
   ],
   "source": [
    "# Ref: https://stackoverflow.com/questions/32434112/round-off-floating-point-values-in-dict\n",
    "\n",
    "for i, res in enumerate(optimizer.res):\n",
    "    \n",
    "    for key, value in res.items():\n",
    "        if key == 'target':\n",
    "            res[key] = round(value, 3)\n",
    "        elif key == 'params':\n",
    "            for key_para, value_para in value.items():\n",
    "                value[key_para] = round(value_para, 3)\n",
    "\n",
    "    print(f\"Iteration {i}: \\n\\t{res}\\n\")"
   ]
  },
  {
   "cell_type": "markdown",
   "metadata": {
    "id": "tQ1T1V6Mspi4"
   },
   "source": [
    "## Test it on real data using the Light GBM"
   ]
  },
  {
   "cell_type": "markdown",
   "metadata": {
    "id": "y_oGwREZkm4h"
   },
   "source": [
    "The dataset we will now use is the famous flight departures dataset. Our modeling goal will be **to predict if a flight departure is going to be delayed by 15 minutes or more** based on the other attributes in our dataset. As part of this modeling exercise, we will use Bayesian hyperparameter optimization to identify the best parameters for our model."
   ]
  },
  {
   "cell_type": "markdown",
   "metadata": {
    "id": "abYSagjQANDZ"
   },
   "source": [
    "**<font color='teal'> You can load the zipped csv files just as you would regular csv files using `Pandas`' `read_csv`. In the next cell load the train and test data into two seperate dataframes. </font>**\n"
   ]
  },
  {
   "cell_type": "code",
   "execution_count": 9,
   "metadata": {
    "id": "EWKBApVuAeJe"
   },
   "outputs": [],
   "source": [
    "train_df = pd.read_csv('flight_delays_train.csv.zip')\n",
    "test_df = pd.read_csv('flight_delays_test.csv.zip')"
   ]
  },
  {
   "cell_type": "code",
   "execution_count": 10,
   "metadata": {
    "colab": {
     "base_uri": "https://localhost:8080/"
    },
    "id": "kQ0CNaJ5d_9X",
    "outputId": "46efe6d7-a490-4b7b-cf4f-a09dc652c439"
   },
   "outputs": [
    {
     "data": {
      "text/plain": [
       "(100000, 9)"
      ]
     },
     "execution_count": 10,
     "metadata": {},
     "output_type": "execute_result"
    }
   ],
   "source": [
    "train_df.shape"
   ]
  },
  {
   "cell_type": "code",
   "execution_count": 11,
   "metadata": {
    "colab": {
     "base_uri": "https://localhost:8080/"
    },
    "id": "8j_7jtzhd_9Y",
    "outputId": "9feb4a64-a989-4d73-f297-b0e2714e85ad"
   },
   "outputs": [
    {
     "data": {
      "text/plain": [
       "(100000, 8)"
      ]
     },
     "execution_count": 11,
     "metadata": {},
     "output_type": "execute_result"
    }
   ],
   "source": [
    "test_df.shape"
   ]
  },
  {
   "cell_type": "markdown",
   "metadata": {
    "id": "OapNcT9Eikis"
   },
   "source": [
    "**<font color='teal'> Print the top five rows of the train dataframe and review the columns in the data. </font>**"
   ]
  },
  {
   "cell_type": "code",
   "execution_count": 12,
   "metadata": {
    "colab": {
     "base_uri": "https://localhost:8080/",
     "height": 206
    },
    "id": "__4cXZ8iiYaC",
    "outputId": "b6451cf9-8d3f-455b-9fc4-6c0be21eef5e"
   },
   "outputs": [
    {
     "data": {
      "text/html": [
       "<div>\n",
       "<style scoped>\n",
       "    .dataframe tbody tr th:only-of-type {\n",
       "        vertical-align: middle;\n",
       "    }\n",
       "\n",
       "    .dataframe tbody tr th {\n",
       "        vertical-align: top;\n",
       "    }\n",
       "\n",
       "    .dataframe thead th {\n",
       "        text-align: right;\n",
       "    }\n",
       "</style>\n",
       "<table border=\"1\" class=\"dataframe\">\n",
       "  <thead>\n",
       "    <tr style=\"text-align: right;\">\n",
       "      <th></th>\n",
       "      <th>Month</th>\n",
       "      <th>DayofMonth</th>\n",
       "      <th>DayOfWeek</th>\n",
       "      <th>DepTime</th>\n",
       "      <th>UniqueCarrier</th>\n",
       "      <th>Origin</th>\n",
       "      <th>Dest</th>\n",
       "      <th>Distance</th>\n",
       "      <th>dep_delayed_15min</th>\n",
       "    </tr>\n",
       "  </thead>\n",
       "  <tbody>\n",
       "    <tr>\n",
       "      <th>0</th>\n",
       "      <td>c-8</td>\n",
       "      <td>c-21</td>\n",
       "      <td>c-7</td>\n",
       "      <td>1934</td>\n",
       "      <td>AA</td>\n",
       "      <td>ATL</td>\n",
       "      <td>DFW</td>\n",
       "      <td>732</td>\n",
       "      <td>N</td>\n",
       "    </tr>\n",
       "    <tr>\n",
       "      <th>1</th>\n",
       "      <td>c-4</td>\n",
       "      <td>c-20</td>\n",
       "      <td>c-3</td>\n",
       "      <td>1548</td>\n",
       "      <td>US</td>\n",
       "      <td>PIT</td>\n",
       "      <td>MCO</td>\n",
       "      <td>834</td>\n",
       "      <td>N</td>\n",
       "    </tr>\n",
       "    <tr>\n",
       "      <th>2</th>\n",
       "      <td>c-9</td>\n",
       "      <td>c-2</td>\n",
       "      <td>c-5</td>\n",
       "      <td>1422</td>\n",
       "      <td>XE</td>\n",
       "      <td>RDU</td>\n",
       "      <td>CLE</td>\n",
       "      <td>416</td>\n",
       "      <td>N</td>\n",
       "    </tr>\n",
       "    <tr>\n",
       "      <th>3</th>\n",
       "      <td>c-11</td>\n",
       "      <td>c-25</td>\n",
       "      <td>c-6</td>\n",
       "      <td>1015</td>\n",
       "      <td>OO</td>\n",
       "      <td>DEN</td>\n",
       "      <td>MEM</td>\n",
       "      <td>872</td>\n",
       "      <td>N</td>\n",
       "    </tr>\n",
       "    <tr>\n",
       "      <th>4</th>\n",
       "      <td>c-10</td>\n",
       "      <td>c-7</td>\n",
       "      <td>c-6</td>\n",
       "      <td>1828</td>\n",
       "      <td>WN</td>\n",
       "      <td>MDW</td>\n",
       "      <td>OMA</td>\n",
       "      <td>423</td>\n",
       "      <td>Y</td>\n",
       "    </tr>\n",
       "  </tbody>\n",
       "</table>\n",
       "</div>"
      ],
      "text/plain": [
       "  Month DayofMonth DayOfWeek  DepTime UniqueCarrier Origin Dest  Distance  \\\n",
       "0   c-8       c-21       c-7     1934            AA    ATL  DFW       732   \n",
       "1   c-4       c-20       c-3     1548            US    PIT  MCO       834   \n",
       "2   c-9        c-2       c-5     1422            XE    RDU  CLE       416   \n",
       "3  c-11       c-25       c-6     1015            OO    DEN  MEM       872   \n",
       "4  c-10        c-7       c-6     1828            WN    MDW  OMA       423   \n",
       "\n",
       "  dep_delayed_15min  \n",
       "0                 N  \n",
       "1                 N  \n",
       "2                 N  \n",
       "3                 N  \n",
       "4                 Y  "
      ]
     },
     "execution_count": 12,
     "metadata": {},
     "output_type": "execute_result"
    }
   ],
   "source": [
    "train_df.head()"
   ]
  },
  {
   "cell_type": "markdown",
   "metadata": {
    "id": "UxGBsPQhffgd"
   },
   "source": [
    "**<font color='teal'> Use the describe function to review the numeric columns in the train and test dataframes. </font>**"
   ]
  },
  {
   "cell_type": "code",
   "execution_count": 13,
   "metadata": {
    "colab": {
     "base_uri": "https://localhost:8080/",
     "height": 300
    },
    "id": "_bRRKG3DAtae",
    "outputId": "78a6bf1c-a3cd-4ed8-9b69-45ac0df968f8"
   },
   "outputs": [
    {
     "data": {
      "text/html": [
       "<div>\n",
       "<style scoped>\n",
       "    .dataframe tbody tr th:only-of-type {\n",
       "        vertical-align: middle;\n",
       "    }\n",
       "\n",
       "    .dataframe tbody tr th {\n",
       "        vertical-align: top;\n",
       "    }\n",
       "\n",
       "    .dataframe thead th {\n",
       "        text-align: right;\n",
       "    }\n",
       "</style>\n",
       "<table border=\"1\" class=\"dataframe\">\n",
       "  <thead>\n",
       "    <tr style=\"text-align: right;\">\n",
       "      <th></th>\n",
       "      <th>DepTime</th>\n",
       "      <th>Distance</th>\n",
       "    </tr>\n",
       "  </thead>\n",
       "  <tbody>\n",
       "    <tr>\n",
       "      <th>count</th>\n",
       "      <td>100000.000000</td>\n",
       "      <td>100000.00000</td>\n",
       "    </tr>\n",
       "    <tr>\n",
       "      <th>mean</th>\n",
       "      <td>1341.523880</td>\n",
       "      <td>729.39716</td>\n",
       "    </tr>\n",
       "    <tr>\n",
       "      <th>std</th>\n",
       "      <td>476.378445</td>\n",
       "      <td>574.61686</td>\n",
       "    </tr>\n",
       "    <tr>\n",
       "      <th>min</th>\n",
       "      <td>1.000000</td>\n",
       "      <td>30.00000</td>\n",
       "    </tr>\n",
       "    <tr>\n",
       "      <th>25%</th>\n",
       "      <td>931.000000</td>\n",
       "      <td>317.00000</td>\n",
       "    </tr>\n",
       "    <tr>\n",
       "      <th>50%</th>\n",
       "      <td>1330.000000</td>\n",
       "      <td>575.00000</td>\n",
       "    </tr>\n",
       "    <tr>\n",
       "      <th>75%</th>\n",
       "      <td>1733.000000</td>\n",
       "      <td>957.00000</td>\n",
       "    </tr>\n",
       "    <tr>\n",
       "      <th>max</th>\n",
       "      <td>2534.000000</td>\n",
       "      <td>4962.00000</td>\n",
       "    </tr>\n",
       "  </tbody>\n",
       "</table>\n",
       "</div>"
      ],
      "text/plain": [
       "             DepTime      Distance\n",
       "count  100000.000000  100000.00000\n",
       "mean     1341.523880     729.39716\n",
       "std       476.378445     574.61686\n",
       "min         1.000000      30.00000\n",
       "25%       931.000000     317.00000\n",
       "50%      1330.000000     575.00000\n",
       "75%      1733.000000     957.00000\n",
       "max      2534.000000    4962.00000"
      ]
     },
     "execution_count": 13,
     "metadata": {},
     "output_type": "execute_result"
    }
   ],
   "source": [
    "train_df.describe()"
   ]
  },
  {
   "cell_type": "code",
   "execution_count": 14,
   "metadata": {
    "colab": {
     "base_uri": "https://localhost:8080/",
     "height": 300
    },
    "id": "EQ3lWn4Sd_9Z",
    "outputId": "6296de1b-5298-4078-a6e9-8df407da2854"
   },
   "outputs": [
    {
     "data": {
      "text/html": [
       "<div>\n",
       "<style scoped>\n",
       "    .dataframe tbody tr th:only-of-type {\n",
       "        vertical-align: middle;\n",
       "    }\n",
       "\n",
       "    .dataframe tbody tr th {\n",
       "        vertical-align: top;\n",
       "    }\n",
       "\n",
       "    .dataframe thead th {\n",
       "        text-align: right;\n",
       "    }\n",
       "</style>\n",
       "<table border=\"1\" class=\"dataframe\">\n",
       "  <thead>\n",
       "    <tr style=\"text-align: right;\">\n",
       "      <th></th>\n",
       "      <th>DepTime</th>\n",
       "      <th>Distance</th>\n",
       "    </tr>\n",
       "  </thead>\n",
       "  <tbody>\n",
       "    <tr>\n",
       "      <th>count</th>\n",
       "      <td>100000.000000</td>\n",
       "      <td>100000.00000</td>\n",
       "    </tr>\n",
       "    <tr>\n",
       "      <th>mean</th>\n",
       "      <td>1338.936600</td>\n",
       "      <td>723.13011</td>\n",
       "    </tr>\n",
       "    <tr>\n",
       "      <th>std</th>\n",
       "      <td>480.554102</td>\n",
       "      <td>563.22322</td>\n",
       "    </tr>\n",
       "    <tr>\n",
       "      <th>min</th>\n",
       "      <td>1.000000</td>\n",
       "      <td>31.00000</td>\n",
       "    </tr>\n",
       "    <tr>\n",
       "      <th>25%</th>\n",
       "      <td>928.000000</td>\n",
       "      <td>321.00000</td>\n",
       "    </tr>\n",
       "    <tr>\n",
       "      <th>50%</th>\n",
       "      <td>1329.000000</td>\n",
       "      <td>574.00000</td>\n",
       "    </tr>\n",
       "    <tr>\n",
       "      <th>75%</th>\n",
       "      <td>1733.000000</td>\n",
       "      <td>948.00000</td>\n",
       "    </tr>\n",
       "    <tr>\n",
       "      <th>max</th>\n",
       "      <td>2400.000000</td>\n",
       "      <td>4962.00000</td>\n",
       "    </tr>\n",
       "  </tbody>\n",
       "</table>\n",
       "</div>"
      ],
      "text/plain": [
       "             DepTime      Distance\n",
       "count  100000.000000  100000.00000\n",
       "mean     1338.936600     723.13011\n",
       "std       480.554102     563.22322\n",
       "min         1.000000      31.00000\n",
       "25%       928.000000     321.00000\n",
       "50%      1329.000000     574.00000\n",
       "75%      1733.000000     948.00000\n",
       "max      2400.000000    4962.00000"
      ]
     },
     "execution_count": 14,
     "metadata": {},
     "output_type": "execute_result"
    }
   ],
   "source": [
    "test_df.describe()"
   ]
  },
  {
   "cell_type": "markdown",
   "metadata": {
    "id": "i6k-_fI5Aiyh"
   },
   "source": [
    "Notice, `DepTime` is the departure time in a numeric representation in 2400 hours.  But, we see that `train_df` has `DepTime` more than 2400 hours."
   ]
  },
  {
   "cell_type": "code",
   "execution_count": 15,
   "metadata": {
    "id": "ErIwqHw9d_9Z"
   },
   "outputs": [],
   "source": [
    "idx = (train_df.DepTime > 2400)"
   ]
  },
  {
   "cell_type": "code",
   "execution_count": 16,
   "metadata": {
    "colab": {
     "base_uri": "https://localhost:8080/"
    },
    "id": "pNuP2z1Bd_9a",
    "outputId": "5fcec10c-a121-42eb-e438-060fc076eabe"
   },
   "outputs": [
    {
     "data": {
      "text/plain": [
       "17"
      ]
     },
     "execution_count": 16,
     "metadata": {},
     "output_type": "execute_result"
    }
   ],
   "source": [
    "idx.sum()"
   ]
  },
  {
   "cell_type": "code",
   "execution_count": 17,
   "metadata": {
    "colab": {
     "base_uri": "https://localhost:8080/",
     "height": 582
    },
    "id": "cF1i2W58d_9a",
    "outputId": "e0fc7241-3c1c-4825-ccd4-1519f00dc328"
   },
   "outputs": [
    {
     "data": {
      "text/html": [
       "<div>\n",
       "<style scoped>\n",
       "    .dataframe tbody tr th:only-of-type {\n",
       "        vertical-align: middle;\n",
       "    }\n",
       "\n",
       "    .dataframe tbody tr th {\n",
       "        vertical-align: top;\n",
       "    }\n",
       "\n",
       "    .dataframe thead th {\n",
       "        text-align: right;\n",
       "    }\n",
       "</style>\n",
       "<table border=\"1\" class=\"dataframe\">\n",
       "  <thead>\n",
       "    <tr style=\"text-align: right;\">\n",
       "      <th></th>\n",
       "      <th>Month</th>\n",
       "      <th>DayofMonth</th>\n",
       "      <th>DayOfWeek</th>\n",
       "      <th>DepTime</th>\n",
       "      <th>UniqueCarrier</th>\n",
       "      <th>Origin</th>\n",
       "      <th>Dest</th>\n",
       "      <th>Distance</th>\n",
       "      <th>dep_delayed_15min</th>\n",
       "    </tr>\n",
       "  </thead>\n",
       "  <tbody>\n",
       "    <tr>\n",
       "      <th>8189</th>\n",
       "      <td>c-6</td>\n",
       "      <td>c-14</td>\n",
       "      <td>c-2</td>\n",
       "      <td>2435</td>\n",
       "      <td>EV</td>\n",
       "      <td>CVG</td>\n",
       "      <td>AVL</td>\n",
       "      <td>275</td>\n",
       "      <td>Y</td>\n",
       "    </tr>\n",
       "    <tr>\n",
       "      <th>20766</th>\n",
       "      <td>c-5</td>\n",
       "      <td>c-31</td>\n",
       "      <td>c-2</td>\n",
       "      <td>2534</td>\n",
       "      <td>EV</td>\n",
       "      <td>ATL</td>\n",
       "      <td>HSV</td>\n",
       "      <td>151</td>\n",
       "      <td>Y</td>\n",
       "    </tr>\n",
       "    <tr>\n",
       "      <th>27391</th>\n",
       "      <td>c-3</td>\n",
       "      <td>c-23</td>\n",
       "      <td>c-4</td>\n",
       "      <td>2505</td>\n",
       "      <td>EV</td>\n",
       "      <td>ATL</td>\n",
       "      <td>AGS</td>\n",
       "      <td>143</td>\n",
       "      <td>Y</td>\n",
       "    </tr>\n",
       "    <tr>\n",
       "      <th>44332</th>\n",
       "      <td>c-7</td>\n",
       "      <td>c-15</td>\n",
       "      <td>c-5</td>\n",
       "      <td>2440</td>\n",
       "      <td>EV</td>\n",
       "      <td>ATL</td>\n",
       "      <td>SHV</td>\n",
       "      <td>552</td>\n",
       "      <td>Y</td>\n",
       "    </tr>\n",
       "    <tr>\n",
       "      <th>45796</th>\n",
       "      <td>c-8</td>\n",
       "      <td>c-18</td>\n",
       "      <td>c-4</td>\n",
       "      <td>2447</td>\n",
       "      <td>EV</td>\n",
       "      <td>ATL</td>\n",
       "      <td>JAN</td>\n",
       "      <td>341</td>\n",
       "      <td>Y</td>\n",
       "    </tr>\n",
       "    <tr>\n",
       "      <th>47218</th>\n",
       "      <td>c-1</td>\n",
       "      <td>c-2</td>\n",
       "      <td>c-1</td>\n",
       "      <td>2500</td>\n",
       "      <td>EV</td>\n",
       "      <td>ATL</td>\n",
       "      <td>ILM</td>\n",
       "      <td>377</td>\n",
       "      <td>Y</td>\n",
       "    </tr>\n",
       "    <tr>\n",
       "      <th>48180</th>\n",
       "      <td>c-2</td>\n",
       "      <td>c-27</td>\n",
       "      <td>c-7</td>\n",
       "      <td>2514</td>\n",
       "      <td>EV</td>\n",
       "      <td>ATL</td>\n",
       "      <td>CAE</td>\n",
       "      <td>191</td>\n",
       "      <td>Y</td>\n",
       "    </tr>\n",
       "    <tr>\n",
       "      <th>55909</th>\n",
       "      <td>c-8</td>\n",
       "      <td>c-9</td>\n",
       "      <td>c-3</td>\n",
       "      <td>2417</td>\n",
       "      <td>EV</td>\n",
       "      <td>ATL</td>\n",
       "      <td>SYR</td>\n",
       "      <td>793</td>\n",
       "      <td>Y</td>\n",
       "    </tr>\n",
       "    <tr>\n",
       "      <th>60639</th>\n",
       "      <td>c-1</td>\n",
       "      <td>c-8</td>\n",
       "      <td>c-7</td>\n",
       "      <td>2459</td>\n",
       "      <td>EV</td>\n",
       "      <td>ATL</td>\n",
       "      <td>JAN</td>\n",
       "      <td>341</td>\n",
       "      <td>Y</td>\n",
       "    </tr>\n",
       "    <tr>\n",
       "      <th>62669</th>\n",
       "      <td>c-3</td>\n",
       "      <td>c-20</td>\n",
       "      <td>c-1</td>\n",
       "      <td>2412</td>\n",
       "      <td>EV</td>\n",
       "      <td>ATL</td>\n",
       "      <td>GSP</td>\n",
       "      <td>153</td>\n",
       "      <td>Y</td>\n",
       "    </tr>\n",
       "    <tr>\n",
       "      <th>73435</th>\n",
       "      <td>c-8</td>\n",
       "      <td>c-14</td>\n",
       "      <td>c-7</td>\n",
       "      <td>2418</td>\n",
       "      <td>EV</td>\n",
       "      <td>CHA</td>\n",
       "      <td>ATL</td>\n",
       "      <td>106</td>\n",
       "      <td>Y</td>\n",
       "    </tr>\n",
       "    <tr>\n",
       "      <th>76370</th>\n",
       "      <td>c-8</td>\n",
       "      <td>c-11</td>\n",
       "      <td>c-5</td>\n",
       "      <td>2401</td>\n",
       "      <td>EV</td>\n",
       "      <td>ATL</td>\n",
       "      <td>CLE</td>\n",
       "      <td>554</td>\n",
       "      <td>Y</td>\n",
       "    </tr>\n",
       "    <tr>\n",
       "      <th>77163</th>\n",
       "      <td>c-2</td>\n",
       "      <td>c-27</td>\n",
       "      <td>c-7</td>\n",
       "      <td>2522</td>\n",
       "      <td>EV</td>\n",
       "      <td>CVG</td>\n",
       "      <td>SHV</td>\n",
       "      <td>686</td>\n",
       "      <td>Y</td>\n",
       "    </tr>\n",
       "    <tr>\n",
       "      <th>93122</th>\n",
       "      <td>c-7</td>\n",
       "      <td>c-31</td>\n",
       "      <td>c-7</td>\n",
       "      <td>2435</td>\n",
       "      <td>EV</td>\n",
       "      <td>ATL</td>\n",
       "      <td>AVL</td>\n",
       "      <td>164</td>\n",
       "      <td>Y</td>\n",
       "    </tr>\n",
       "    <tr>\n",
       "      <th>93784</th>\n",
       "      <td>c-9</td>\n",
       "      <td>c-16</td>\n",
       "      <td>c-5</td>\n",
       "      <td>2450</td>\n",
       "      <td>EV</td>\n",
       "      <td>GNV</td>\n",
       "      <td>ATL</td>\n",
       "      <td>300</td>\n",
       "      <td>Y</td>\n",
       "    </tr>\n",
       "    <tr>\n",
       "      <th>98924</th>\n",
       "      <td>c-7</td>\n",
       "      <td>c-5</td>\n",
       "      <td>c-2</td>\n",
       "      <td>2530</td>\n",
       "      <td>EV</td>\n",
       "      <td>ATL</td>\n",
       "      <td>GNV</td>\n",
       "      <td>300</td>\n",
       "      <td>Y</td>\n",
       "    </tr>\n",
       "    <tr>\n",
       "      <th>99072</th>\n",
       "      <td>c-4</td>\n",
       "      <td>c-30</td>\n",
       "      <td>c-6</td>\n",
       "      <td>2415</td>\n",
       "      <td>EV</td>\n",
       "      <td>CAE</td>\n",
       "      <td>ATL</td>\n",
       "      <td>191</td>\n",
       "      <td>Y</td>\n",
       "    </tr>\n",
       "  </tbody>\n",
       "</table>\n",
       "</div>"
      ],
      "text/plain": [
       "      Month DayofMonth DayOfWeek  DepTime UniqueCarrier Origin Dest  Distance  \\\n",
       "8189    c-6       c-14       c-2     2435            EV    CVG  AVL       275   \n",
       "20766   c-5       c-31       c-2     2534            EV    ATL  HSV       151   \n",
       "27391   c-3       c-23       c-4     2505            EV    ATL  AGS       143   \n",
       "44332   c-7       c-15       c-5     2440            EV    ATL  SHV       552   \n",
       "45796   c-8       c-18       c-4     2447            EV    ATL  JAN       341   \n",
       "47218   c-1        c-2       c-1     2500            EV    ATL  ILM       377   \n",
       "48180   c-2       c-27       c-7     2514            EV    ATL  CAE       191   \n",
       "55909   c-8        c-9       c-3     2417            EV    ATL  SYR       793   \n",
       "60639   c-1        c-8       c-7     2459            EV    ATL  JAN       341   \n",
       "62669   c-3       c-20       c-1     2412            EV    ATL  GSP       153   \n",
       "73435   c-8       c-14       c-7     2418            EV    CHA  ATL       106   \n",
       "76370   c-8       c-11       c-5     2401            EV    ATL  CLE       554   \n",
       "77163   c-2       c-27       c-7     2522            EV    CVG  SHV       686   \n",
       "93122   c-7       c-31       c-7     2435            EV    ATL  AVL       164   \n",
       "93784   c-9       c-16       c-5     2450            EV    GNV  ATL       300   \n",
       "98924   c-7        c-5       c-2     2530            EV    ATL  GNV       300   \n",
       "99072   c-4       c-30       c-6     2415            EV    CAE  ATL       191   \n",
       "\n",
       "      dep_delayed_15min  \n",
       "8189                  Y  \n",
       "20766                 Y  \n",
       "27391                 Y  \n",
       "44332                 Y  \n",
       "45796                 Y  \n",
       "47218                 Y  \n",
       "48180                 Y  \n",
       "55909                 Y  \n",
       "60639                 Y  \n",
       "62669                 Y  \n",
       "73435                 Y  \n",
       "76370                 Y  \n",
       "77163                 Y  \n",
       "93122                 Y  \n",
       "93784                 Y  \n",
       "98924                 Y  \n",
       "99072                 Y  "
      ]
     },
     "execution_count": 17,
     "metadata": {},
     "output_type": "execute_result"
    }
   ],
   "source": [
    "train_df[idx]"
   ]
  },
  {
   "cell_type": "markdown",
   "metadata": {
    "id": "-kvym6Ovd_9a"
   },
   "source": [
    "Let's replace these values by the closeset `DepTime` of those flights whose `UniqueCarrier`, `Origin`, and `Dest` features are same."
   ]
  },
  {
   "cell_type": "code",
   "execution_count": 18,
   "metadata": {
    "id": "SH6IQfZhd_9a"
   },
   "outputs": [],
   "source": [
    "idx_lst = list(train_df[idx].index)\n",
    "\n",
    "for i in range(len(idx_lst)):\n",
    "    \n",
    "    df_i = train_df[['DepTime', 'UniqueCarrier', 'Origin', 'Dest']].loc[[idx_lst[i]]]\n",
    "\n",
    "    df1 = train_df[['DepTime', 'UniqueCarrier', \n",
    "                    'Origin', 'Dest']][(train_df.Origin == df_i.Origin.values[0])\n",
    "                                       & (train_df.Dest == df_i.Dest.values[0])\n",
    "                                       & (train_df.UniqueCarrier == df_i.UniqueCarrier.values[0])\n",
    "                                       & (train_df.DepTime <= 2400)\n",
    "                                      ]\n",
    "    df1['DiffTime'] = abs(df1.DepTime - df_i.loc[idx_lst[i],'DepTime'])\n",
    "    \n",
    "    closest_DepTime_idx = df1.DiffTime.idxmin()\n",
    "    \n",
    "    closest_DepTime = train_df.DepTime.loc[[closest_DepTime_idx]].values[0]\n",
    "    \n",
    "    train_df.loc[idx_lst[i], 'DepTime'] = closest_DepTime"
   ]
  },
  {
   "cell_type": "code",
   "execution_count": 19,
   "metadata": {
    "colab": {
     "base_uri": "https://localhost:8080/"
    },
    "id": "gZGmoEtAd_9b",
    "outputId": "cb001a7a-cb48-43ae-cb7d-46bc76237fcb",
    "tags": []
   },
   "outputs": [
    {
     "data": {
      "text/plain": [
       "0"
      ]
     },
     "execution_count": 19,
     "metadata": {},
     "output_type": "execute_result"
    }
   ],
   "source": [
    "(train_df.DepTime > 2400).sum()"
   ]
  },
  {
   "cell_type": "code",
   "execution_count": 20,
   "metadata": {
    "colab": {
     "base_uri": "https://localhost:8080/",
     "height": 582
    },
    "id": "srmdxvtFd_9b",
    "outputId": "74d7b6b8-ca54-44c4-c87f-7fd6d832f765"
   },
   "outputs": [
    {
     "data": {
      "text/html": [
       "<div>\n",
       "<style scoped>\n",
       "    .dataframe tbody tr th:only-of-type {\n",
       "        vertical-align: middle;\n",
       "    }\n",
       "\n",
       "    .dataframe tbody tr th {\n",
       "        vertical-align: top;\n",
       "    }\n",
       "\n",
       "    .dataframe thead th {\n",
       "        text-align: right;\n",
       "    }\n",
       "</style>\n",
       "<table border=\"1\" class=\"dataframe\">\n",
       "  <thead>\n",
       "    <tr style=\"text-align: right;\">\n",
       "      <th></th>\n",
       "      <th>Month</th>\n",
       "      <th>DayofMonth</th>\n",
       "      <th>DayOfWeek</th>\n",
       "      <th>DepTime</th>\n",
       "      <th>UniqueCarrier</th>\n",
       "      <th>Origin</th>\n",
       "      <th>Dest</th>\n",
       "      <th>Distance</th>\n",
       "      <th>dep_delayed_15min</th>\n",
       "    </tr>\n",
       "  </thead>\n",
       "  <tbody>\n",
       "    <tr>\n",
       "      <th>8189</th>\n",
       "      <td>c-6</td>\n",
       "      <td>c-14</td>\n",
       "      <td>c-2</td>\n",
       "      <td>2300</td>\n",
       "      <td>EV</td>\n",
       "      <td>CVG</td>\n",
       "      <td>AVL</td>\n",
       "      <td>275</td>\n",
       "      <td>Y</td>\n",
       "    </tr>\n",
       "    <tr>\n",
       "      <th>20766</th>\n",
       "      <td>c-5</td>\n",
       "      <td>c-31</td>\n",
       "      <td>c-2</td>\n",
       "      <td>2355</td>\n",
       "      <td>EV</td>\n",
       "      <td>ATL</td>\n",
       "      <td>HSV</td>\n",
       "      <td>151</td>\n",
       "      <td>Y</td>\n",
       "    </tr>\n",
       "    <tr>\n",
       "      <th>27391</th>\n",
       "      <td>c-3</td>\n",
       "      <td>c-23</td>\n",
       "      <td>c-4</td>\n",
       "      <td>2240</td>\n",
       "      <td>EV</td>\n",
       "      <td>ATL</td>\n",
       "      <td>AGS</td>\n",
       "      <td>143</td>\n",
       "      <td>Y</td>\n",
       "    </tr>\n",
       "    <tr>\n",
       "      <th>44332</th>\n",
       "      <td>c-7</td>\n",
       "      <td>c-15</td>\n",
       "      <td>c-5</td>\n",
       "      <td>2356</td>\n",
       "      <td>EV</td>\n",
       "      <td>ATL</td>\n",
       "      <td>SHV</td>\n",
       "      <td>552</td>\n",
       "      <td>Y</td>\n",
       "    </tr>\n",
       "    <tr>\n",
       "      <th>45796</th>\n",
       "      <td>c-8</td>\n",
       "      <td>c-18</td>\n",
       "      <td>c-4</td>\n",
       "      <td>2317</td>\n",
       "      <td>EV</td>\n",
       "      <td>ATL</td>\n",
       "      <td>JAN</td>\n",
       "      <td>341</td>\n",
       "      <td>Y</td>\n",
       "    </tr>\n",
       "    <tr>\n",
       "      <th>47218</th>\n",
       "      <td>c-1</td>\n",
       "      <td>c-2</td>\n",
       "      <td>c-1</td>\n",
       "      <td>2249</td>\n",
       "      <td>EV</td>\n",
       "      <td>ATL</td>\n",
       "      <td>ILM</td>\n",
       "      <td>377</td>\n",
       "      <td>Y</td>\n",
       "    </tr>\n",
       "    <tr>\n",
       "      <th>48180</th>\n",
       "      <td>c-2</td>\n",
       "      <td>c-27</td>\n",
       "      <td>c-7</td>\n",
       "      <td>2304</td>\n",
       "      <td>EV</td>\n",
       "      <td>ATL</td>\n",
       "      <td>CAE</td>\n",
       "      <td>191</td>\n",
       "      <td>Y</td>\n",
       "    </tr>\n",
       "    <tr>\n",
       "      <th>55909</th>\n",
       "      <td>c-8</td>\n",
       "      <td>c-9</td>\n",
       "      <td>c-3</td>\n",
       "      <td>2240</td>\n",
       "      <td>EV</td>\n",
       "      <td>ATL</td>\n",
       "      <td>SYR</td>\n",
       "      <td>793</td>\n",
       "      <td>Y</td>\n",
       "    </tr>\n",
       "    <tr>\n",
       "      <th>60639</th>\n",
       "      <td>c-1</td>\n",
       "      <td>c-8</td>\n",
       "      <td>c-7</td>\n",
       "      <td>2317</td>\n",
       "      <td>EV</td>\n",
       "      <td>ATL</td>\n",
       "      <td>JAN</td>\n",
       "      <td>341</td>\n",
       "      <td>Y</td>\n",
       "    </tr>\n",
       "    <tr>\n",
       "      <th>62669</th>\n",
       "      <td>c-3</td>\n",
       "      <td>c-20</td>\n",
       "      <td>c-1</td>\n",
       "      <td>2300</td>\n",
       "      <td>EV</td>\n",
       "      <td>ATL</td>\n",
       "      <td>GSP</td>\n",
       "      <td>153</td>\n",
       "      <td>Y</td>\n",
       "    </tr>\n",
       "    <tr>\n",
       "      <th>73435</th>\n",
       "      <td>c-8</td>\n",
       "      <td>c-14</td>\n",
       "      <td>c-7</td>\n",
       "      <td>2125</td>\n",
       "      <td>EV</td>\n",
       "      <td>CHA</td>\n",
       "      <td>ATL</td>\n",
       "      <td>106</td>\n",
       "      <td>Y</td>\n",
       "    </tr>\n",
       "    <tr>\n",
       "      <th>76370</th>\n",
       "      <td>c-8</td>\n",
       "      <td>c-11</td>\n",
       "      <td>c-5</td>\n",
       "      <td>2210</td>\n",
       "      <td>EV</td>\n",
       "      <td>ATL</td>\n",
       "      <td>CLE</td>\n",
       "      <td>554</td>\n",
       "      <td>Y</td>\n",
       "    </tr>\n",
       "    <tr>\n",
       "      <th>77163</th>\n",
       "      <td>c-2</td>\n",
       "      <td>c-27</td>\n",
       "      <td>c-7</td>\n",
       "      <td>2055</td>\n",
       "      <td>EV</td>\n",
       "      <td>CVG</td>\n",
       "      <td>SHV</td>\n",
       "      <td>686</td>\n",
       "      <td>Y</td>\n",
       "    </tr>\n",
       "    <tr>\n",
       "      <th>93122</th>\n",
       "      <td>c-7</td>\n",
       "      <td>c-31</td>\n",
       "      <td>c-7</td>\n",
       "      <td>2305</td>\n",
       "      <td>EV</td>\n",
       "      <td>ATL</td>\n",
       "      <td>AVL</td>\n",
       "      <td>164</td>\n",
       "      <td>Y</td>\n",
       "    </tr>\n",
       "    <tr>\n",
       "      <th>93784</th>\n",
       "      <td>c-9</td>\n",
       "      <td>c-16</td>\n",
       "      <td>c-5</td>\n",
       "      <td>2021</td>\n",
       "      <td>EV</td>\n",
       "      <td>GNV</td>\n",
       "      <td>ATL</td>\n",
       "      <td>300</td>\n",
       "      <td>Y</td>\n",
       "    </tr>\n",
       "    <tr>\n",
       "      <th>98924</th>\n",
       "      <td>c-7</td>\n",
       "      <td>c-5</td>\n",
       "      <td>c-2</td>\n",
       "      <td>2201</td>\n",
       "      <td>EV</td>\n",
       "      <td>ATL</td>\n",
       "      <td>GNV</td>\n",
       "      <td>300</td>\n",
       "      <td>Y</td>\n",
       "    </tr>\n",
       "    <tr>\n",
       "      <th>99072</th>\n",
       "      <td>c-4</td>\n",
       "      <td>c-30</td>\n",
       "      <td>c-6</td>\n",
       "      <td>2024</td>\n",
       "      <td>EV</td>\n",
       "      <td>CAE</td>\n",
       "      <td>ATL</td>\n",
       "      <td>191</td>\n",
       "      <td>Y</td>\n",
       "    </tr>\n",
       "  </tbody>\n",
       "</table>\n",
       "</div>"
      ],
      "text/plain": [
       "      Month DayofMonth DayOfWeek  DepTime UniqueCarrier Origin Dest  Distance  \\\n",
       "8189    c-6       c-14       c-2     2300            EV    CVG  AVL       275   \n",
       "20766   c-5       c-31       c-2     2355            EV    ATL  HSV       151   \n",
       "27391   c-3       c-23       c-4     2240            EV    ATL  AGS       143   \n",
       "44332   c-7       c-15       c-5     2356            EV    ATL  SHV       552   \n",
       "45796   c-8       c-18       c-4     2317            EV    ATL  JAN       341   \n",
       "47218   c-1        c-2       c-1     2249            EV    ATL  ILM       377   \n",
       "48180   c-2       c-27       c-7     2304            EV    ATL  CAE       191   \n",
       "55909   c-8        c-9       c-3     2240            EV    ATL  SYR       793   \n",
       "60639   c-1        c-8       c-7     2317            EV    ATL  JAN       341   \n",
       "62669   c-3       c-20       c-1     2300            EV    ATL  GSP       153   \n",
       "73435   c-8       c-14       c-7     2125            EV    CHA  ATL       106   \n",
       "76370   c-8       c-11       c-5     2210            EV    ATL  CLE       554   \n",
       "77163   c-2       c-27       c-7     2055            EV    CVG  SHV       686   \n",
       "93122   c-7       c-31       c-7     2305            EV    ATL  AVL       164   \n",
       "93784   c-9       c-16       c-5     2021            EV    GNV  ATL       300   \n",
       "98924   c-7        c-5       c-2     2201            EV    ATL  GNV       300   \n",
       "99072   c-4       c-30       c-6     2024            EV    CAE  ATL       191   \n",
       "\n",
       "      dep_delayed_15min  \n",
       "8189                  Y  \n",
       "20766                 Y  \n",
       "27391                 Y  \n",
       "44332                 Y  \n",
       "45796                 Y  \n",
       "47218                 Y  \n",
       "48180                 Y  \n",
       "55909                 Y  \n",
       "60639                 Y  \n",
       "62669                 Y  \n",
       "73435                 Y  \n",
       "76370                 Y  \n",
       "77163                 Y  \n",
       "93122                 Y  \n",
       "93784                 Y  \n",
       "98924                 Y  \n",
       "99072                 Y  "
      ]
     },
     "execution_count": 20,
     "metadata": {},
     "output_type": "execute_result"
    }
   ],
   "source": [
    "train_df[idx]"
   ]
  },
  {
   "cell_type": "code",
   "execution_count": 21,
   "metadata": {
    "colab": {
     "base_uri": "https://localhost:8080/",
     "height": 300
    },
    "id": "nnJ4FPdGd_9c",
    "outputId": "bd982f02-5173-4228-e0ee-a8e78689befc"
   },
   "outputs": [
    {
     "data": {
      "text/html": [
       "<div>\n",
       "<style scoped>\n",
       "    .dataframe tbody tr th:only-of-type {\n",
       "        vertical-align: middle;\n",
       "    }\n",
       "\n",
       "    .dataframe tbody tr th {\n",
       "        vertical-align: top;\n",
       "    }\n",
       "\n",
       "    .dataframe thead th {\n",
       "        text-align: right;\n",
       "    }\n",
       "</style>\n",
       "<table border=\"1\" class=\"dataframe\">\n",
       "  <thead>\n",
       "    <tr style=\"text-align: right;\">\n",
       "      <th></th>\n",
       "      <th>DepTime</th>\n",
       "      <th>Distance</th>\n",
       "    </tr>\n",
       "  </thead>\n",
       "  <tbody>\n",
       "    <tr>\n",
       "      <th>count</th>\n",
       "      <td>100000.000000</td>\n",
       "      <td>100000.00000</td>\n",
       "    </tr>\n",
       "    <tr>\n",
       "      <th>mean</th>\n",
       "      <td>1341.484730</td>\n",
       "      <td>729.39716</td>\n",
       "    </tr>\n",
       "    <tr>\n",
       "      <th>std</th>\n",
       "      <td>476.297622</td>\n",
       "      <td>574.61686</td>\n",
       "    </tr>\n",
       "    <tr>\n",
       "      <th>min</th>\n",
       "      <td>1.000000</td>\n",
       "      <td>30.00000</td>\n",
       "    </tr>\n",
       "    <tr>\n",
       "      <th>25%</th>\n",
       "      <td>931.000000</td>\n",
       "      <td>317.00000</td>\n",
       "    </tr>\n",
       "    <tr>\n",
       "      <th>50%</th>\n",
       "      <td>1330.000000</td>\n",
       "      <td>575.00000</td>\n",
       "    </tr>\n",
       "    <tr>\n",
       "      <th>75%</th>\n",
       "      <td>1733.000000</td>\n",
       "      <td>957.00000</td>\n",
       "    </tr>\n",
       "    <tr>\n",
       "      <th>max</th>\n",
       "      <td>2400.000000</td>\n",
       "      <td>4962.00000</td>\n",
       "    </tr>\n",
       "  </tbody>\n",
       "</table>\n",
       "</div>"
      ],
      "text/plain": [
       "             DepTime      Distance\n",
       "count  100000.000000  100000.00000\n",
       "mean     1341.484730     729.39716\n",
       "std       476.297622     574.61686\n",
       "min         1.000000      30.00000\n",
       "25%       931.000000     317.00000\n",
       "50%      1330.000000     575.00000\n",
       "75%      1733.000000     957.00000\n",
       "max      2400.000000    4962.00000"
      ]
     },
     "execution_count": 21,
     "metadata": {},
     "output_type": "execute_result"
    }
   ],
   "source": [
    "train_df.describe()"
   ]
  },
  {
   "cell_type": "code",
   "execution_count": 22,
   "metadata": {
    "colab": {
     "base_uri": "https://localhost:8080/"
    },
    "id": "TQCUEtgpd_9c",
    "outputId": "ad9d2b64-4fa5-4222-8169-02a8398cd24e"
   },
   "outputs": [
    {
     "data": {
      "text/plain": [
       "Month                0\n",
       "DayofMonth           0\n",
       "DayOfWeek            0\n",
       "DepTime              0\n",
       "UniqueCarrier        0\n",
       "Origin               0\n",
       "Dest                 0\n",
       "Distance             0\n",
       "dep_delayed_15min    0\n",
       "dtype: int64"
      ]
     },
     "execution_count": 22,
     "metadata": {},
     "output_type": "execute_result"
    }
   ],
   "source": [
    "train_df.isnull().sum()"
   ]
  },
  {
   "cell_type": "code",
   "execution_count": 23,
   "metadata": {
    "colab": {
     "base_uri": "https://localhost:8080/"
    },
    "id": "Q4XFzgG-d_9c",
    "outputId": "9fc78e9e-1741-4b5f-f3e0-762b67389954"
   },
   "outputs": [
    {
     "data": {
      "text/plain": [
       "Month            0\n",
       "DayofMonth       0\n",
       "DayOfWeek        0\n",
       "DepTime          0\n",
       "UniqueCarrier    0\n",
       "Origin           0\n",
       "Dest             0\n",
       "Distance         0\n",
       "dtype: int64"
      ]
     },
     "execution_count": 23,
     "metadata": {},
     "output_type": "execute_result"
    }
   ],
   "source": [
    "test_df.isnull().sum()"
   ]
  },
  {
   "cell_type": "markdown",
   "metadata": {
    "id": "gtZS4-hrlQah"
   },
   "source": [
    "**<font color='teal'>The response variable is `dep_delayed_15min` which is a categorical column, so we need to map the `Y` to `1` and `N` to `0`.</font>**"
   ]
  },
  {
   "cell_type": "code",
   "execution_count": 24,
   "metadata": {
    "colab": {
     "base_uri": "https://localhost:8080/"
    },
    "id": "167fRdY3d_9d",
    "outputId": "44f2c2e2-3095-4593-9a7a-7f86822f95c2"
   },
   "outputs": [
    {
     "data": {
      "text/plain": [
       "N    80956\n",
       "Y    19044\n",
       "Name: dep_delayed_15min, dtype: int64"
      ]
     },
     "execution_count": 24,
     "metadata": {},
     "output_type": "execute_result"
    }
   ],
   "source": [
    "train_df.dep_delayed_15min.value_counts(dropna = False)"
   ]
  },
  {
   "cell_type": "code",
   "execution_count": 25,
   "metadata": {
    "ExecuteTime": {
     "end_time": "2019-04-22T15:38:42.677690Z",
     "start_time": "2019-04-22T15:38:42.481963Z"
    },
    "colab": {
     "base_uri": "https://localhost:8080/"
    },
    "id": "yRlOTbnW-KYc",
    "outputId": "8b2aac4f-05c0-4b63-ab78-125d9dcb01be"
   },
   "outputs": [
    {
     "name": "stdout",
     "output_type": "stream",
     "text": [
      "0    80956\n",
      "1    19044\n",
      "Name: dep_delayed_15min, dtype: int64\n"
     ]
    }
   ],
   "source": [
    "#train_df = train_df[train_df.DepTime <= 2400].copy()\n",
    "y_train = train_df['dep_delayed_15min'].map({'Y': 1, 'N': 0})\n",
    "\n",
    "print(y_train.value_counts(dropna = False))"
   ]
  },
  {
   "cell_type": "code",
   "execution_count": 26,
   "metadata": {
    "id": "4pbQsFEnd_9e"
   },
   "outputs": [],
   "source": [
    "# y_train = y_train.values"
   ]
  },
  {
   "cell_type": "markdown",
   "metadata": {
    "id": "z3WPkFQO9uo9"
   },
   "source": [
    "## Feature Engineering\n",
    "Use these defined functions to create additional features for the model. Run the cell to add the functions to your workspace."
   ]
  },
  {
   "cell_type": "code",
   "execution_count": 27,
   "metadata": {
    "id": "cXqsqz5W9t3r"
   },
   "outputs": [],
   "source": [
    "def label_enc(df_column):\n",
    "    df_column = LabelEncoder().fit_transform(df_column)\n",
    "    return df_column\n",
    "\n",
    "def make_harmonic_features_sin(value, period=2400):\n",
    "    value *= 2 * np.pi / period \n",
    "    return np.sin(value)\n",
    "\n",
    "def make_harmonic_features_cos(value, period=2400):\n",
    "    value *= 2 * np.pi / period \n",
    "    return np.cos(value)\n",
    "\n",
    "def feature_eng(df):\n",
    "    df['flight'] = df['Origin']+df['Dest']\n",
    "    df['Month'] = df.Month.map(lambda x: x.split('-')[-1]).astype('int32')\n",
    "    df['DayofMonth'] = df.DayofMonth.map(lambda x: x.split('-')[-1]).astype('uint8')\n",
    "    df['begin_of_month'] = (df['DayofMonth'] < 10).astype('uint8')\n",
    "    df['midddle_of_month'] = ((df['DayofMonth'] >= 10)&(df['DayofMonth'] < 20)).astype('uint8')\n",
    "    df['end_of_month'] = (df['DayofMonth'] >= 20).astype('uint8')\n",
    "    df['DayOfWeek'] = df.DayOfWeek.map(lambda x: x.split('-')[-1]).astype('uint8')\n",
    "    df['hour'] = df.DepTime.map(lambda x: x/100).astype('int32')\n",
    "    df['morning'] = df['hour'].map(lambda x: 1 if (x <= 11)& (x >= 7) else 0).astype('uint8')\n",
    "    df['day'] = df['hour'].map(lambda x: 1 if (x >= 12) & (x <= 18) else 0).astype('uint8')\n",
    "    df['evening'] = df['hour'].map(lambda x: 1 if (x >= 19) & (x <= 23) else 0).astype('uint8')\n",
    "    df['night'] = df['hour'].map(lambda x: 1 if (x >= 0) & (x <= 6) else 0).astype('int32')\n",
    "    df['winter'] = df['Month'].map(lambda x: x in [12, 1, 2]).astype('int32')\n",
    "    df['spring'] = df['Month'].map(lambda x: x in [3, 4, 5]).astype('int32')\n",
    "    df['summer'] = df['Month'].map(lambda x: x in [6, 7, 8]).astype('int32')\n",
    "    df['autumn'] = df['Month'].map(lambda x: x in [9, 10, 11]).astype('int32')\n",
    "    df['holiday'] = (df['DayOfWeek'] >= 5).astype(int) \n",
    "    df['weekday'] = (df['DayOfWeek'] < 5).astype(int)\n",
    "    df['airport_dest_per_month'] = df.groupby(['Dest', 'Month'])['Dest'].transform('count')\n",
    "    df['airport_origin_per_month'] = df.groupby(['Origin', 'Month'])['Origin'].transform('count')\n",
    "    df['airport_dest_count'] = df.groupby(['Dest'])['Dest'].transform('count')\n",
    "    df['airport_origin_count'] = df.groupby(['Origin'])['Origin'].transform('count')\n",
    "    df['carrier_count'] = df.groupby(['UniqueCarrier'])['Dest'].transform('count')\n",
    "    df['carrier_count_per month'] = df.groupby(['UniqueCarrier', 'Month'])['Dest'].transform('count')\n",
    "    df['deptime_cos'] = df['DepTime'].map(make_harmonic_features_cos)\n",
    "    df['deptime_sin'] = df['DepTime'].map(make_harmonic_features_sin)\n",
    "    df['flightUC'] = df['flight']+df['UniqueCarrier']\n",
    "    df['DestUC'] = df['Dest']+df['UniqueCarrier']\n",
    "    df['OriginUC'] = df['Origin']+df['UniqueCarrier']\n",
    "    return df.drop('DepTime', axis=1)"
   ]
  },
  {
   "cell_type": "markdown",
   "metadata": {
    "id": "-BYbxXpU-FGE"
   },
   "source": [
    "Concatenate the training and testing dataframes.\n"
   ]
  },
  {
   "cell_type": "code",
   "execution_count": 28,
   "metadata": {
    "id": "Cj6bfSNw_RAf"
   },
   "outputs": [],
   "source": [
    "full_df = pd.concat([train_df.drop('dep_delayed_15min', axis=1), test_df])\n",
    "full_df = feature_eng(full_df)"
   ]
  },
  {
   "cell_type": "markdown",
   "metadata": {
    "id": "GSO8JbfM_W-F"
   },
   "source": [
    "Apply the earlier defined feature engineering functions to the full dataframe."
   ]
  },
  {
   "cell_type": "code",
   "execution_count": 29,
   "metadata": {
    "id": "x6RfAINftjwi"
   },
   "outputs": [],
   "source": [
    "for column in ['UniqueCarrier', 'Origin', 'Dest','flight',  'flightUC', 'DestUC', 'OriginUC']:\n",
    "    full_df[column] = label_enc(full_df[column])"
   ]
  },
  {
   "cell_type": "markdown",
   "metadata": {
    "id": "IJAw1RGB_ZuM"
   },
   "source": [
    "\n",
    "Split the new full dataframe into X_train and X_test. "
   ]
  },
  {
   "cell_type": "code",
   "execution_count": 30,
   "metadata": {
    "id": "15cPtQU5tjfz"
   },
   "outputs": [],
   "source": [
    "X_train = full_df[:train_df.shape[0]]\n",
    "X_test = full_df[train_df.shape[0]:]"
   ]
  },
  {
   "cell_type": "markdown",
   "metadata": {
    "id": "umfAw-9JErLV"
   },
   "source": [
    "Create a list of the categorical features."
   ]
  },
  {
   "cell_type": "code",
   "execution_count": 31,
   "metadata": {
    "ExecuteTime": {
     "end_time": "2019-04-22T14:31:58.412296Z",
     "start_time": "2019-04-22T14:31:58.409088Z"
    },
    "id": "5ibeVyNb-KZI"
   },
   "outputs": [],
   "source": [
    "categorical_features = ['Month',  'DayOfWeek', 'UniqueCarrier', 'Origin', 'Dest','flight',  'flightUC', 'DestUC', 'OriginUC']"
   ]
  },
  {
   "cell_type": "markdown",
   "metadata": {
    "id": "NzMIsMPIETVk"
   },
   "source": [
    "Let's build a light GBM model to test the bayesian optimizer."
   ]
  },
  {
   "cell_type": "markdown",
   "metadata": {},
   "source": [
    "### Using `BayesianOptimization` library"
   ]
  },
  {
   "cell_type": "markdown",
   "metadata": {
    "ExecuteTime": {
     "end_time": "2019-04-22T15:18:04.466965Z",
     "start_time": "2019-04-22T15:18:04.457992Z"
    },
    "id": "2hfm1i5G-KZH"
   },
   "source": [
    "**LightGBM (re: [documentation](https://lightgbm.readthedocs.io/en/latest/)) is a gradient boosting framework that uses tree-based learning algorithms. It is designed to be distributed and efficient with the following advantages**:\n",
    "\n",
    "* Faster training speed and higher efficiency.\n",
    "* Lower memory usage.\n",
    "* Better accuracy.\n",
    "* Support of parallel and GPU learning.\n",
    "* Capable of handling large-scale data."
   ]
  },
  {
   "cell_type": "markdown",
   "metadata": {
    "id": "jf-3F2Wg-KZL"
   },
   "source": [
    "First, we define the function we want to maximize and that will count cross-validation metrics of `lightGBM` for our parameters.\n",
    "\n",
    "Some params such as `num_leaves`, `max_depth`, `min_child_samples`, and `min_data_in_leaf` should be integers."
   ]
  },
  {
   "cell_type": "code",
   "execution_count": 32,
   "metadata": {},
   "outputs": [
    {
     "name": "stdout",
     "output_type": "stream",
     "text": [
      "3.3.3.99\n"
     ]
    }
   ],
   "source": [
    "print(lightgbm.__version__)"
   ]
  },
  {
   "cell_type": "markdown",
   "metadata": {},
   "source": [
    "Note that `early_stopping_rounds` parameter is now deprecated in `lightgbm.cv`. So, we will need to pass `.early_stopping()` (re: [lightgbm.early_stopping](https://lightgbm.readthedocs.io/en/latest/pythonapi/lightgbm.early_stopping.html)) callback via `callbacks` [argument](https://lightgbm.readthedocs.io/en/latest/pythonapi/lightgbm.cv.html#:~:text=List%20of%20callback%20functions) instead."
   ]
  },
  {
   "cell_type": "code",
   "execution_count": 33,
   "metadata": {
    "ExecuteTime": {
     "end_time": "2019-04-22T15:40:14.034265Z",
     "start_time": "2019-04-22T15:40:14.027868Z"
    },
    "id": "LyUJBhGX-KZM"
   },
   "outputs": [],
   "source": [
    "def lgb_eval(num_leaves, max_depth,\n",
    "             lambda_l2, lambda_l1,\n",
    "             min_child_samples, min_data_in_leaf):\n",
    "    \n",
    "    params = {\n",
    "        \"objective\" : \"binary\",\n",
    "        \"metric\" : \"auc\", \n",
    "        'is_unbalance': True,\n",
    "        \"num_leaves\" : int(num_leaves),\n",
    "        \"max_depth\" : int(max_depth),\n",
    "        \"lambda_l2\" : lambda_l2,\n",
    "        \"lambda_l1\" : lambda_l1,\n",
    "        \"num_threads\" : 20,\n",
    "        \"min_child_samples\" : int(min_child_samples),\n",
    "        'min_data_in_leaf': int(min_data_in_leaf),\n",
    "        \"learning_rate\" : 0.03,\n",
    "        \"subsample_freq\" : 5,\n",
    "        \"bagging_seed\" : 42,\n",
    "        \"verbosity\" : -1\n",
    "    }\n",
    "    \n",
    "    lgtrain = lightgbm.Dataset(data = X_train,\n",
    "                               label = y_train,\n",
    "                               categorical_feature=categorical_features)\n",
    "    \n",
    "    callbacks_list = [lightgbm.early_stopping(stopping_rounds = 100)]\n",
    "    \n",
    "    cv_result = lightgbm.cv(params = params,\n",
    "                            train_set = lgtrain,\n",
    "                            num_boost_round = 1000,\n",
    "                            # early_stopping_rounds=100,\n",
    "                            callbacks = callbacks_list,\n",
    "                            stratified=True,\n",
    "                            nfold=3,\n",
    "                            seed = 0\n",
    "                           )\n",
    "    \n",
    "    # return cv_result['auc-mean'][-1]\n",
    "    # return cv_result['valid auc-mean'][-1]\n",
    "    return cv_result"
   ]
  },
  {
   "cell_type": "code",
   "execution_count": 34,
   "metadata": {},
   "outputs": [
    {
     "name": "stdout",
     "output_type": "stream",
     "text": [
      "Training until validation scores don't improve for 100 rounds\n",
      "Early stopping, best iteration is:\n",
      "[89]\tcv_agg's valid auc: 0.719896 + 0.00465946\n"
     ]
    }
   ],
   "source": [
    "cv_result = lgb_eval(num_leaves = 25, max_depth = 5,\n",
    "             lambda_l2 = 0.05, lambda_l1 = 0.05,\n",
    "             min_child_samples = 50, min_data_in_leaf = 100)"
   ]
  },
  {
   "cell_type": "code",
   "execution_count": 35,
   "metadata": {},
   "outputs": [
    {
     "data": {
      "text/plain": [
       "{'valid auc-mean': [0.6929202501986076,\n",
       "  0.7004373284428901,\n",
       "  0.7044168279777426,\n",
       "  0.7062722474806749,\n",
       "  0.707461487890057,\n",
       "  0.708336063026542,\n",
       "  0.7092492955179744,\n",
       "  0.7100503344991246,\n",
       "  0.7104914452692426,\n",
       "  0.7110266802194968,\n",
       "  0.711251028534698,\n",
       "  0.7119665958384988,\n",
       "  0.7124862253233114,\n",
       "  0.7128016216421983,\n",
       "  0.7129819648235981,\n",
       "  0.7134900508735692,\n",
       "  0.7136614419098768,\n",
       "  0.7138113356560423,\n",
       "  0.7141437656673156,\n",
       "  0.7141911126899426,\n",
       "  0.7146255450817164,\n",
       "  0.7148423569791748,\n",
       "  0.7149063190179962,\n",
       "  0.7151688463754189,\n",
       "  0.7153159671451911,\n",
       "  0.7153477532278304,\n",
       "  0.7156227542619259,\n",
       "  0.7157065434223361,\n",
       "  0.7158535530346765,\n",
       "  0.7159019494818867,\n",
       "  0.716048742641024,\n",
       "  0.7160988827018498,\n",
       "  0.7162444117387681,\n",
       "  0.7164747297522909,\n",
       "  0.716424707950015,\n",
       "  0.7165515905277329,\n",
       "  0.7166391281839392,\n",
       "  0.7166454279781913,\n",
       "  0.7168430008429257,\n",
       "  0.7169838985977983,\n",
       "  0.7169947544975508,\n",
       "  0.7171104591866403,\n",
       "  0.7172160464371494,\n",
       "  0.717365004477136,\n",
       "  0.7174210278362662,\n",
       "  0.7174953234243598,\n",
       "  0.717547122639956,\n",
       "  0.7176211215333214,\n",
       "  0.7176922361491872,\n",
       "  0.7177661409379491,\n",
       "  0.7178291143044774,\n",
       "  0.7179096453921402,\n",
       "  0.7179613588520001,\n",
       "  0.7179849728208083,\n",
       "  0.718067881360828,\n",
       "  0.7181062466991701,\n",
       "  0.7181186495491149,\n",
       "  0.7182049191466775,\n",
       "  0.7182581382939633,\n",
       "  0.7183856399846138,\n",
       "  0.7184485119782034,\n",
       "  0.7185637847733496,\n",
       "  0.7186999319766785,\n",
       "  0.7187748960023866,\n",
       "  0.7189861361079579,\n",
       "  0.7190467640065256,\n",
       "  0.7190906076259211,\n",
       "  0.7191280886992676,\n",
       "  0.7190701705543976,\n",
       "  0.7191488561790916,\n",
       "  0.7191122388654376,\n",
       "  0.7191855480654259,\n",
       "  0.7193478387528972,\n",
       "  0.7193409836716601,\n",
       "  0.7194188560514427,\n",
       "  0.7194832489736919,\n",
       "  0.7195728616851156,\n",
       "  0.7195250825387386,\n",
       "  0.7195586869226854,\n",
       "  0.7196710393729885,\n",
       "  0.71973554009343,\n",
       "  0.7197629626792029,\n",
       "  0.7197892347356579,\n",
       "  0.7198446359842715,\n",
       "  0.7198294631138391,\n",
       "  0.7198343088170241,\n",
       "  0.7198896620830942,\n",
       "  0.7198657558585723,\n",
       "  0.719896186597358],\n",
       " 'valid auc-stdv': [0.005335712530694081,\n",
       "  0.004951626863911197,\n",
       "  0.005269853536785308,\n",
       "  0.004893728663251103,\n",
       "  0.004265449585639365,\n",
       "  0.0044501002357770734,\n",
       "  0.004108270684326549,\n",
       "  0.0036283377586810795,\n",
       "  0.003696565579825946,\n",
       "  0.003777635960997283,\n",
       "  0.003539654707075172,\n",
       "  0.0039469729500791,\n",
       "  0.003820124197991052,\n",
       "  0.003864605635353278,\n",
       "  0.003953586810559165,\n",
       "  0.00403313487584218,\n",
       "  0.003904817880813542,\n",
       "  0.003785026286651578,\n",
       "  0.0035469684825931457,\n",
       "  0.003704702051967724,\n",
       "  0.0038857005357057902,\n",
       "  0.003940127732524427,\n",
       "  0.003924803887869135,\n",
       "  0.004147417020706626,\n",
       "  0.004025062024963819,\n",
       "  0.0040240062403109535,\n",
       "  0.0038852194883877487,\n",
       "  0.003946737380852556,\n",
       "  0.0038543047872557443,\n",
       "  0.00394764246577766,\n",
       "  0.004195962589079066,\n",
       "  0.004178775744039299,\n",
       "  0.004322291124899235,\n",
       "  0.004410228975044078,\n",
       "  0.004351434448231003,\n",
       "  0.004362671518065668,\n",
       "  0.004503355871702706,\n",
       "  0.0045193211929612535,\n",
       "  0.004582379193514865,\n",
       "  0.004779774645286601,\n",
       "  0.004786981235127323,\n",
       "  0.004843596052435584,\n",
       "  0.0048733344449233915,\n",
       "  0.004951883204528863,\n",
       "  0.004929389468584705,\n",
       "  0.005056935229084309,\n",
       "  0.005048281503263609,\n",
       "  0.005041008096454098,\n",
       "  0.005001176541588234,\n",
       "  0.005001899293392679,\n",
       "  0.005000299299586746,\n",
       "  0.005077611531507379,\n",
       "  0.005053437006429143,\n",
       "  0.005040696700569245,\n",
       "  0.004986780117465001,\n",
       "  0.005017444077045633,\n",
       "  0.005005305980644856,\n",
       "  0.004898341245749118,\n",
       "  0.004967734949896259,\n",
       "  0.004971218720597151,\n",
       "  0.004900549911507634,\n",
       "  0.004941031032961393,\n",
       "  0.0050405889194350935,\n",
       "  0.005106767330417018,\n",
       "  0.005035436192167761,\n",
       "  0.0049635241424914964,\n",
       "  0.004974094629993617,\n",
       "  0.005001151199686021,\n",
       "  0.004916091162666147,\n",
       "  0.004988244920999459,\n",
       "  0.004995121009245433,\n",
       "  0.004956746253636251,\n",
       "  0.004929006209068483,\n",
       "  0.004825712110779603,\n",
       "  0.004832839480282809,\n",
       "  0.0048764892257422655,\n",
       "  0.004854628288025386,\n",
       "  0.004805747226619253,\n",
       "  0.004721424330467936,\n",
       "  0.0047473829078575475,\n",
       "  0.0047602716525936084,\n",
       "  0.0047497744498123115,\n",
       "  0.004705771141818384,\n",
       "  0.004692983412629555,\n",
       "  0.004705926398133292,\n",
       "  0.004579915113398914,\n",
       "  0.004626397599339903,\n",
       "  0.0046285894971449994,\n",
       "  0.004659461990973263]}"
      ]
     },
     "execution_count": 35,
     "metadata": {},
     "output_type": "execute_result"
    }
   ],
   "source": [
    "cv_result"
   ]
  },
  {
   "cell_type": "markdown",
   "metadata": {
    "id": "FJwqBhdeF11Q"
   },
   "source": [
    "Apply the Bayesian optimizer to the function we created in the previous step to identify the best hyperparameters. We will run 10 iterations (`n_iter=10`) and set `init_points = 2`.\n"
   ]
  },
  {
   "cell_type": "code",
   "execution_count": 36,
   "metadata": {},
   "outputs": [],
   "source": [
    "def f_to_maximize(num_leaves, max_depth,\n",
    "                  lambda_l2, lambda_l1,\n",
    "                  min_child_samples, min_data_in_leaf):\n",
    "    \n",
    "    \n",
    "    cv_result = lgb_eval(num_leaves, max_depth,\n",
    "                         lambda_l2, lambda_l1,\n",
    "                         min_child_samples, min_data_in_leaf)\n",
    "    \n",
    "    return cv_result['valid auc-mean'][-1]"
   ]
  },
  {
   "cell_type": "code",
   "execution_count": 37,
   "metadata": {
    "ExecuteTime": {
     "end_time": "2019-04-22T15:48:04.682447Z",
     "start_time": "2019-04-22T15:40:14.641634Z"
    },
    "colab": {
     "base_uri": "https://localhost:8080/"
    },
    "id": "JheCOkUE-KZP",
    "outputId": "409a094a-5080-42de-d8f3-fe7195d4c740"
   },
   "outputs": [
    {
     "name": "stdout",
     "output_type": "stream",
     "text": [
      "|   iter    |  target   | lambda_l1 | lambda_l2 | max_depth | min_ch... | min_da... | num_le... |\n",
      "-------------------------------------------------------------------------------------------------\n",
      "Training until validation scores don't improve for 100 rounds\n",
      "Early stopping, best iteration is:\n",
      "[95]\tcv_agg's valid auc: 0.719205 + 0.00412265\n",
      "| \u001b[0m1        \u001b[0m | \u001b[0m0.7192   \u001b[0m | \u001b[0m0.02085  \u001b[0m | \u001b[0m0.03602  \u001b[0m | \u001b[0m5.007    \u001b[0m | \u001b[0m3.058e+03\u001b[0m | \u001b[0m378.8    \u001b[0m | \u001b[0m392.0    \u001b[0m |\n",
      "Training until validation scores don't improve for 100 rounds\n",
      "Early stopping, best iteration is:\n",
      "[229]\tcv_agg's valid auc: 0.728491 + 0.0044553\n",
      "| \u001b[95m2        \u001b[0m | \u001b[95m0.7285   \u001b[0m | \u001b[95m0.009313 \u001b[0m | \u001b[95m0.01728  \u001b[0m | \u001b[95m28.01    \u001b[0m | \u001b[95m5.411e+03\u001b[0m | \u001b[95m896.5    \u001b[0m | \u001b[95m2.749e+03\u001b[0m |\n",
      "Training until validation scores don't improve for 100 rounds\n",
      "Early stopping, best iteration is:\n",
      "[23]\tcv_agg's valid auc: 0.719487 + 0.0036219\n",
      "| \u001b[0m3        \u001b[0m | \u001b[0m0.7195   \u001b[0m | \u001b[0m0.02807  \u001b[0m | \u001b[0m0.01877  \u001b[0m | \u001b[0m32.78    \u001b[0m | \u001b[0m5.634e+03\u001b[0m | \u001b[0m361.7    \u001b[0m | \u001b[0m2.587e+03\u001b[0m |\n",
      "Training until validation scores don't improve for 100 rounds\n",
      "Early stopping, best iteration is:\n",
      "[28]\tcv_agg's valid auc: 0.718921 + 0.00386974\n",
      "| \u001b[0m4        \u001b[0m | \u001b[0m0.7189   \u001b[0m | \u001b[0m0.02989  \u001b[0m | \u001b[0m0.01592  \u001b[0m | \u001b[0m43.46    \u001b[0m | \u001b[0m4.511e+03\u001b[0m | \u001b[0m427.2    \u001b[0m | \u001b[0m1.229e+03\u001b[0m |\n",
      "Training until validation scores don't improve for 100 rounds\n",
      "Early stopping, best iteration is:\n",
      "[228]\tcv_agg's valid auc: 0.724459 + 0.00423982\n",
      "| \u001b[0m5        \u001b[0m | \u001b[0m0.7245   \u001b[0m | \u001b[0m0.04486  \u001b[0m | \u001b[0m0.02648  \u001b[0m | \u001b[0m8.422    \u001b[0m | \u001b[0m8.381e+03\u001b[0m | \u001b[0m531.1    \u001b[0m | \u001b[0m760.9    \u001b[0m |\n",
      "Training until validation scores don't improve for 100 rounds\n",
      "Did not meet early stopping. Best iteration is:\n",
      "[904]\tcv_agg's valid auc: 0.742554 + 0.00400268\n",
      "| \u001b[95m6        \u001b[0m | \u001b[95m0.7426   \u001b[0m | \u001b[95m0.02048  \u001b[0m | \u001b[95m0.006115 \u001b[0m | \u001b[95m47.34    \u001b[0m | \u001b[95m8.687e+03\u001b[0m | \u001b[95m1.359e+03\u001b[0m | \u001b[95m1.595e+03\u001b[0m |\n",
      "Training until validation scores don't improve for 100 rounds\n",
      "Early stopping, best iteration is:\n",
      "[29]\tcv_agg's valid auc: 0.72238 + 0.00378389\n",
      "| \u001b[0m7        \u001b[0m | \u001b[0m0.7224   \u001b[0m | \u001b[0m0.04584  \u001b[0m | \u001b[0m0.004731 \u001b[0m | \u001b[0m62.23    \u001b[0m | \u001b[0m9.473e+03\u001b[0m | \u001b[0m125.3    \u001b[0m | \u001b[0m1.83e+03 \u001b[0m |\n",
      "Training until validation scores don't improve for 100 rounds\n",
      "Early stopping, best iteration is:\n",
      "[807]\tcv_agg's valid auc: 0.743677 + 0.00467297\n",
      "| \u001b[95m8        \u001b[0m | \u001b[95m0.7437   \u001b[0m | \u001b[95m0.0347   \u001b[0m | \u001b[95m0.02868  \u001b[0m | \u001b[95m24.09    \u001b[0m | \u001b[95m7.113e+03\u001b[0m | \u001b[95m1.615e+03\u001b[0m | \u001b[95m145.7    \u001b[0m |\n",
      "Training until validation scores don't improve for 100 rounds\n",
      "Early stopping, best iteration is:\n",
      "[724]\tcv_agg's valid auc: 0.743217 + 0.0048058\n",
      "| \u001b[0m9        \u001b[0m | \u001b[0m0.7432   \u001b[0m | \u001b[0m0.01009  \u001b[0m | \u001b[0m0.01468  \u001b[0m | \u001b[0m14.24    \u001b[0m | \u001b[0m2.839e+03\u001b[0m | \u001b[0m1.642e+03\u001b[0m | \u001b[0m2.833e+03\u001b[0m |\n",
      "Training until validation scores don't improve for 100 rounds\n",
      "Early stopping, best iteration is:\n",
      "[780]\tcv_agg's valid auc: 0.743074 + 0.00435219\n",
      "| \u001b[0m10       \u001b[0m | \u001b[0m0.7431   \u001b[0m | \u001b[0m0.0002309\u001b[0m | \u001b[0m0.04105  \u001b[0m | \u001b[0m34.72    \u001b[0m | \u001b[0m5.39e+03 \u001b[0m | \u001b[0m1.503e+03\u001b[0m | \u001b[0m3.782e+03\u001b[0m |\n",
      "Training until validation scores don't improve for 100 rounds\n",
      "Did not meet early stopping. Best iteration is:\n",
      "[914]\tcv_agg's valid auc: 0.743272 + 0.0040963\n",
      "| \u001b[0m11       \u001b[0m | \u001b[0m0.7433   \u001b[0m | \u001b[0m0.001704 \u001b[0m | \u001b[0m0.03593  \u001b[0m | \u001b[0m55.09    \u001b[0m | \u001b[0m3.039e+03\u001b[0m | \u001b[0m1.709e+03\u001b[0m | \u001b[0m1.702e+03\u001b[0m |\n",
      "Training until validation scores don't improve for 100 rounds\n",
      "Did not meet early stopping. Best iteration is:\n",
      "[1000]\tcv_agg's valid auc: 0.74312 + 0.00398806\n",
      "| \u001b[0m12       \u001b[0m | \u001b[0m0.7431   \u001b[0m | \u001b[0m0.03704  \u001b[0m | \u001b[0m0.03347  \u001b[0m | \u001b[0m6.426    \u001b[0m | \u001b[0m7.676e+03\u001b[0m | \u001b[0m1.943e+03\u001b[0m | \u001b[0m1.317e+03\u001b[0m |\n",
      "=================================================================================================\n"
     ]
    }
   ],
   "source": [
    "lgbBO = BayesianOptimization(\n",
    "                             f = f_to_maximize,\n",
    "                             pbounds = {'num_leaves': (25, 4000),\n",
    "                                        'max_depth': (5, 63),\n",
    "                                        'lambda_l2': (0.0, 0.05),\n",
    "                                        'lambda_l1': (0.0, 0.05),\n",
    "                                        'min_child_samples': (50, 10000),\n",
    "                                        'min_data_in_leaf': (100, 2000)\n",
    "                                       },\n",
    "                             random_state=1\n",
    "                            )\n",
    "\n",
    "lgbBO.maximize(n_iter=10, init_points=2)"
   ]
  },
  {
   "cell_type": "markdown",
   "metadata": {
    "id": "rdkxhhST-KZS"
   },
   "source": [
    " **<font color='teal'> Print the best result by using the `.max` function.</font>**"
   ]
  },
  {
   "cell_type": "code",
   "execution_count": 38,
   "metadata": {
    "ExecuteTime": {
     "end_time": "2019-04-22T15:49:01.513767Z",
     "start_time": "2019-04-22T15:49:01.509392Z"
    },
    "colab": {
     "base_uri": "https://localhost:8080/"
    },
    "id": "oc8z6mfy-KZS",
    "outputId": "e7e54eef-7e42-482c-f6e4-7c8f222f0ce8"
   },
   "outputs": [
    {
     "data": {
      "text/plain": [
       "{'target': 0.7436766033692709,\n",
       " 'params': {'lambda_l1': 0.03469976418304162,\n",
       "  'lambda_l2': 0.02868054749024032,\n",
       "  'max_depth': 24.086990454131087,\n",
       "  'min_child_samples': 7112.606300057905,\n",
       "  'min_data_in_leaf': 1615.1169568627445,\n",
       "  'num_leaves': 145.731287667976}}"
      ]
     },
     "execution_count": 38,
     "metadata": {},
     "output_type": "execute_result"
    }
   ],
   "source": [
    "lgbBO.max"
   ]
  },
  {
   "cell_type": "markdown",
   "metadata": {
    "ExecuteTime": {
     "end_time": "2019-04-22T15:50:29.049881Z",
     "start_time": "2019-04-22T15:50:29.045908Z"
    },
    "id": "J5LAydKC-KZW"
   },
   "source": [
    "Review the process at each step by using the `.res` function."
   ]
  },
  {
   "cell_type": "code",
   "execution_count": 39,
   "metadata": {
    "ExecuteTime": {
     "end_time": "2019-04-22T15:51:01.001688Z",
     "start_time": "2019-04-22T15:51:00.997484Z"
    },
    "colab": {
     "base_uri": "https://localhost:8080/"
    },
    "id": "X1ttZmrI-KZX",
    "outputId": "a49b2d13-e09f-4780-977a-bb1577017327"
   },
   "outputs": [
    {
     "data": {
      "text/plain": [
       "{'target': 0.7192046561987094,\n",
       " 'params': {'lambda_l1': 0.020851100235128702,\n",
       "  'lambda_l2': 0.036016224672107904,\n",
       "  'max_depth': 5.006633739406004,\n",
       "  'min_child_samples': 3058.2090976868058,\n",
       "  'min_data_in_leaf': 378.8361925525148,\n",
       "  'num_leaves': 392.04591420597126}}"
      ]
     },
     "execution_count": 39,
     "metadata": {},
     "output_type": "execute_result"
    }
   ],
   "source": [
    "lgbBO.res[0]"
   ]
  },
  {
   "cell_type": "code",
   "execution_count": 40,
   "metadata": {
    "colab": {
     "base_uri": "https://localhost:8080/"
    },
    "id": "Mjf-A9Njd_9j",
    "outputId": "4012ccf1-a298-498d-a819-e519823c374b"
   },
   "outputs": [
    {
     "name": "stdout",
     "output_type": "stream",
     "text": [
      "Iteration 0: \n",
      "\t{'target': 0.7192046561987094, 'params': {'lambda_l1': 0.020851100235128702, 'lambda_l2': 0.036016224672107904, 'max_depth': 5.006633739406004, 'min_child_samples': 3058.2090976868058, 'min_data_in_leaf': 378.8361925525148, 'num_leaves': 392.04591420597126}}\n",
      "\n",
      "Iteration 1: \n",
      "\t{'target': 0.7284909691129068, 'params': {'lambda_l1': 0.009313010568883546, 'lambda_l2': 0.017278036352152387, 'max_depth': 28.012513505378855, 'min_child_samples': 5411.2265033334015, 'min_data_in_leaf': 896.4695773662602, 'num_leaves': 2748.747514077119}}\n",
      "\n",
      "Iteration 2: \n",
      "\t{'target': 0.7194867165879869, 'params': {'lambda_l1': 0.02807144402786755, 'lambda_l2': 0.018768698805027365, 'max_depth': 32.776027838297395, 'min_child_samples': 5634.398463157358, 'min_data_in_leaf': 361.74531561040993, 'num_leaves': 2586.9523143420997}}\n",
      "\n",
      "Iteration 3: \n",
      "\t{'target': 0.7189211257797788, 'params': {'lambda_l1': 0.02988553997024032, 'lambda_l2': 0.015920641365851813, 'max_depth': 43.457408005967025, 'min_child_samples': 4511.479070472726, 'min_data_in_leaf': 427.1898899167602, 'num_leaves': 1229.1640671419732}}\n",
      "\n",
      "Iteration 4: \n",
      "\t{'target': 0.7244590780581482, 'params': {'lambda_l1': 0.044859071034402495, 'lambda_l2': 0.026481551575717174, 'max_depth': 8.421792068340979, 'min_child_samples': 8380.938792623298, 'min_data_in_leaf': 531.0767301432701, 'num_leaves': 760.9037338702151}}\n",
      "\n",
      "Iteration 5: \n",
      "\t{'target': 0.7425535314221031, 'params': {'lambda_l1': 0.02047592411760222, 'lambda_l2': 0.0061148610969832436, 'max_depth': 47.338933657789326, 'min_child_samples': 8687.455713973215, 'min_data_in_leaf': 1359.487526530498, 'num_leaves': 1595.1065395531155}}\n",
      "\n",
      "Iteration 6: \n",
      "\t{'target': 0.722379865090064, 'params': {'lambda_l1': 0.04583991321660958, 'lambda_l2': 0.00473059880053558, 'max_depth': 62.225317117758415, 'min_child_samples': 9472.526739930845, 'min_data_in_leaf': 125.32170264605843, 'num_leaves': 1829.9255125413588}}\n",
      "\n",
      "Iteration 7: \n",
      "\t{'target': 0.7436766033692709, 'params': {'lambda_l1': 0.03469976418304162, 'lambda_l2': 0.02868054749024032, 'max_depth': 24.086990454131087, 'min_child_samples': 7112.606300057905, 'min_data_in_leaf': 1615.1169568627445, 'num_leaves': 145.731287667976}}\n",
      "\n",
      "Iteration 8: \n",
      "\t{'target': 0.7432169068035505, 'params': {'lambda_l1': 0.010089769683331785, 'lambda_l2': 0.014684694101171526, 'max_depth': 14.235401676748285, 'min_child_samples': 2838.525277631191, 'min_data_in_leaf': 1641.894826296873, 'num_leaves': 2832.7023352287306}}\n",
      "\n",
      "Iteration 9: \n",
      "\t{'target': 0.7430742786644228, 'params': {'lambda_l1': 0.00023085970103171595, 'lambda_l2': 0.041050660030163715, 'max_depth': 34.722236668136574, 'min_child_samples': 5389.929485099175, 'min_data_in_leaf': 1502.9546377234371, 'num_leaves': 3782.395611363518}}\n",
      "\n",
      "Iteration 10: \n",
      "\t{'target': 0.743272287761489, 'params': {'lambda_l1': 0.0017044113137606176, 'lambda_l2': 0.0359267032524404, 'max_depth': 55.08798969860291, 'min_child_samples': 3039.223822953911, 'min_data_in_leaf': 1708.7214215465383, 'num_leaves': 1702.0707131062459}}\n",
      "\n",
      "Iteration 11: \n",
      "\t{'target': 0.7431204223885794, 'params': {'lambda_l1': 0.03704466208858383, 'lambda_l2': 0.03347077965786851, 'max_depth': 6.426212256907103, 'min_child_samples': 7675.527921957597, 'min_data_in_leaf': 1943.3361144231287, 'num_leaves': 1317.2885989797571}}\n",
      "\n"
     ]
    }
   ],
   "source": [
    "for i, res in enumerate(lgbBO.res):\n",
    "    print(f\"Iteration {i}: \\n\\t{res}\\n\")"
   ]
  },
  {
   "cell_type": "markdown",
   "metadata": {},
   "source": [
    "### Using `scikit-optimize`'s `BayesSearchCV` class"
   ]
  },
  {
   "cell_type": "markdown",
   "metadata": {},
   "source": [
    "Instead of `BayesianOptimization` [library](https://github.com/fmfn/BayesianOptimization), we can use `scikit-optimize`'s `BayesSearchCV` which is `scikit-learn` hyperparameter search wrapper (re: [skopt.BayesSearchCV](https://scikit-optimize.github.io/stable/modules/generated/skopt.BayesSearchCV.html)). Refer to this YouTube [video](https://youtu.be/ECNU4WIuhSE) for a simple illustration.\n",
    "\n",
    "Note that the default `base_estimator` parameter of `optimizer_kwargs` (re: [Dict of arguments passed to Optimizer](https://scikit-optimize.github.io/stable/modules/generated/skopt.BayesSearchCV.html#skopt.BayesSearchCV:~:text=settings%20in%20parallel.-,optimizer_kwargs,-dict%2C%20optional)) of `BayesSearchCV` is Gaussian Process. We will use its default value to make it consistent with the `BayesianOptimization` library for comparison purpose.\n",
    "\n",
    "The `estimator` parameter of `BayesSearchCV` will be set as `lightgbm.LGBMClassifier` (re: [lightgbm.LGBMClassifier](https://lightgbm.readthedocs.io/en/latest/pythonapi/lightgbm.LGBMClassifier.html)) whose `objective` argument will be set as `objective = \"binary\"` to consider [*binary* log loss classification](https://lightgbm.readthedocs.io/en/latest/Parameters.html#:~:text=binary%20log%20loss%20classification). This will be consistent with what we did in `BayesianOptimization`."
   ]
  },
  {
   "cell_type": "code",
   "execution_count": 41,
   "metadata": {},
   "outputs": [],
   "source": [
    "opt = BayesSearchCV(\n",
    "                    estimator = lightgbm.LGBMClassifier(objective = \"binary\",\n",
    "                                                        metric = \"auc\",\n",
    "                                                        is_unbalance = True,\n",
    "                                                        num_threads = 20,\n",
    "                                                        learning_rate = 0.03,\n",
    "                                                        subsample_freq = 5,\n",
    "                                                        bagging_seed = 42,\n",
    "                                                        verbosity = -1\n",
    "                                                       ),\n",
    "                    search_spaces = {\n",
    "                        \"num_leaves\" : Integer(25, 4000),\n",
    "                        \"max_depth\" : Integer(5, 63),\n",
    "                        \"reg_lambda\" : Real(0.0, 0.05),\n",
    "                        \"reg_alpha\" : Real(0.0, 0.05),\n",
    "                        \"min_child_samples\" : Integer(50, 10000),\n",
    "                        'min_data_in_leaf': Integer(100, 2000)\n",
    "                    },\n",
    "                    n_iter=10,\n",
    "                    cv = 3,\n",
    "                    random_state=1,\n",
    "                    verbose = 1,\n",
    "                    n_jobs = -1\n",
    "                    )"
   ]
  },
  {
   "cell_type": "code",
   "execution_count": 42,
   "metadata": {},
   "outputs": [
    {
     "data": {
      "text/html": [
       "<style>#sk-container-id-1 {color: black;background-color: white;}#sk-container-id-1 pre{padding: 0;}#sk-container-id-1 div.sk-toggleable {background-color: white;}#sk-container-id-1 label.sk-toggleable__label {cursor: pointer;display: block;width: 100%;margin-bottom: 0;padding: 0.3em;box-sizing: border-box;text-align: center;}#sk-container-id-1 label.sk-toggleable__label-arrow:before {content: \"▸\";float: left;margin-right: 0.25em;color: #696969;}#sk-container-id-1 label.sk-toggleable__label-arrow:hover:before {color: black;}#sk-container-id-1 div.sk-estimator:hover label.sk-toggleable__label-arrow:before {color: black;}#sk-container-id-1 div.sk-toggleable__content {max-height: 0;max-width: 0;overflow: hidden;text-align: left;background-color: #f0f8ff;}#sk-container-id-1 div.sk-toggleable__content pre {margin: 0.2em;color: black;border-radius: 0.25em;background-color: #f0f8ff;}#sk-container-id-1 input.sk-toggleable__control:checked~div.sk-toggleable__content {max-height: 200px;max-width: 100%;overflow: auto;}#sk-container-id-1 input.sk-toggleable__control:checked~label.sk-toggleable__label-arrow:before {content: \"▾\";}#sk-container-id-1 div.sk-estimator input.sk-toggleable__control:checked~label.sk-toggleable__label {background-color: #d4ebff;}#sk-container-id-1 div.sk-label input.sk-toggleable__control:checked~label.sk-toggleable__label {background-color: #d4ebff;}#sk-container-id-1 input.sk-hidden--visually {border: 0;clip: rect(1px 1px 1px 1px);clip: rect(1px, 1px, 1px, 1px);height: 1px;margin: -1px;overflow: hidden;padding: 0;position: absolute;width: 1px;}#sk-container-id-1 div.sk-estimator {font-family: monospace;background-color: #f0f8ff;border: 1px dotted black;border-radius: 0.25em;box-sizing: border-box;margin-bottom: 0.5em;}#sk-container-id-1 div.sk-estimator:hover {background-color: #d4ebff;}#sk-container-id-1 div.sk-parallel-item::after {content: \"\";width: 100%;border-bottom: 1px solid gray;flex-grow: 1;}#sk-container-id-1 div.sk-label:hover label.sk-toggleable__label {background-color: #d4ebff;}#sk-container-id-1 div.sk-serial::before {content: \"\";position: absolute;border-left: 1px solid gray;box-sizing: border-box;top: 0;bottom: 0;left: 50%;z-index: 0;}#sk-container-id-1 div.sk-serial {display: flex;flex-direction: column;align-items: center;background-color: white;padding-right: 0.2em;padding-left: 0.2em;position: relative;}#sk-container-id-1 div.sk-item {position: relative;z-index: 1;}#sk-container-id-1 div.sk-parallel {display: flex;align-items: stretch;justify-content: center;background-color: white;position: relative;}#sk-container-id-1 div.sk-item::before, #sk-container-id-1 div.sk-parallel-item::before {content: \"\";position: absolute;border-left: 1px solid gray;box-sizing: border-box;top: 0;bottom: 0;left: 50%;z-index: -1;}#sk-container-id-1 div.sk-parallel-item {display: flex;flex-direction: column;z-index: 1;position: relative;background-color: white;}#sk-container-id-1 div.sk-parallel-item:first-child::after {align-self: flex-end;width: 50%;}#sk-container-id-1 div.sk-parallel-item:last-child::after {align-self: flex-start;width: 50%;}#sk-container-id-1 div.sk-parallel-item:only-child::after {width: 0;}#sk-container-id-1 div.sk-dashed-wrapped {border: 1px dashed gray;margin: 0 0.4em 0.5em 0.4em;box-sizing: border-box;padding-bottom: 0.4em;background-color: white;}#sk-container-id-1 div.sk-label label {font-family: monospace;font-weight: bold;display: inline-block;line-height: 1.2em;}#sk-container-id-1 div.sk-label-container {text-align: center;}#sk-container-id-1 div.sk-container {/* jupyter's `normalize.less` sets `[hidden] { display: none; }` but bootstrap.min.css set `[hidden] { display: none !important; }` so we also need the `!important` here to be able to override the default hidden behavior on the sphinx rendered scikit-learn.org. See: https://github.com/scikit-learn/scikit-learn/issues/21755 */display: inline-block !important;position: relative;}#sk-container-id-1 div.sk-text-repr-fallback {display: none;}</style><div id=\"sk-container-id-1\" class=\"sk-top-container\"><div class=\"sk-text-repr-fallback\"><pre>BayesSearchCV(cv=3,\n",
       "              estimator=LGBMClassifier(bagging_seed=42, is_unbalance=True,\n",
       "                                       learning_rate=0.03, metric=&#x27;auc&#x27;,\n",
       "                                       num_threads=20, objective=&#x27;binary&#x27;,\n",
       "                                       subsample_freq=5, verbosity=-1),\n",
       "              n_iter=10, n_jobs=-1, random_state=1,\n",
       "              search_spaces={&#x27;max_depth&#x27;: Integer(low=5, high=63, prior=&#x27;uniform&#x27;, transform=&#x27;identity&#x27;),\n",
       "                             &#x27;min_child_samples&#x27;: Integer(low=50, high=10000, prior=&#x27;uniform&#x27;, transform=&#x27;identity&#x27;),\n",
       "                             &#x27;min_data_in_leaf&#x27;: Integer(low=100, high=2000, prior=&#x27;uniform&#x27;, transform=&#x27;identity&#x27;),\n",
       "                             &#x27;num_leaves&#x27;: Integer(low=25, high=4000, prior=&#x27;uniform&#x27;, transform=&#x27;identity&#x27;),\n",
       "                             &#x27;reg_alpha&#x27;: Real(low=0.0, high=0.05, prior=&#x27;uniform&#x27;, transform=&#x27;identity&#x27;),\n",
       "                             &#x27;reg_lambda&#x27;: Real(low=0.0, high=0.05, prior=&#x27;uniform&#x27;, transform=&#x27;identity&#x27;)},\n",
       "              verbose=1)</pre><b>In a Jupyter environment, please rerun this cell to show the HTML representation or trust the notebook. <br />On GitHub, the HTML representation is unable to render, please try loading this page with nbviewer.org.</b></div><div class=\"sk-container\" hidden><div class=\"sk-item sk-dashed-wrapped\"><div class=\"sk-label-container\"><div class=\"sk-label sk-toggleable\"><input class=\"sk-toggleable__control sk-hidden--visually\" id=\"sk-estimator-id-1\" type=\"checkbox\" ><label for=\"sk-estimator-id-1\" class=\"sk-toggleable__label sk-toggleable__label-arrow\">BayesSearchCV</label><div class=\"sk-toggleable__content\"><pre>BayesSearchCV(cv=3,\n",
       "              estimator=LGBMClassifier(bagging_seed=42, is_unbalance=True,\n",
       "                                       learning_rate=0.03, metric=&#x27;auc&#x27;,\n",
       "                                       num_threads=20, objective=&#x27;binary&#x27;,\n",
       "                                       subsample_freq=5, verbosity=-1),\n",
       "              n_iter=10, n_jobs=-1, random_state=1,\n",
       "              search_spaces={&#x27;max_depth&#x27;: Integer(low=5, high=63, prior=&#x27;uniform&#x27;, transform=&#x27;identity&#x27;),\n",
       "                             &#x27;min_child_samples&#x27;: Integer(low=50, high=10000, prior=&#x27;uniform&#x27;, transform=&#x27;identity&#x27;),\n",
       "                             &#x27;min_data_in_leaf&#x27;: Integer(low=100, high=2000, prior=&#x27;uniform&#x27;, transform=&#x27;identity&#x27;),\n",
       "                             &#x27;num_leaves&#x27;: Integer(low=25, high=4000, prior=&#x27;uniform&#x27;, transform=&#x27;identity&#x27;),\n",
       "                             &#x27;reg_alpha&#x27;: Real(low=0.0, high=0.05, prior=&#x27;uniform&#x27;, transform=&#x27;identity&#x27;),\n",
       "                             &#x27;reg_lambda&#x27;: Real(low=0.0, high=0.05, prior=&#x27;uniform&#x27;, transform=&#x27;identity&#x27;)},\n",
       "              verbose=1)</pre></div></div></div><div class=\"sk-parallel\"><div class=\"sk-parallel-item\"><div class=\"sk-item\"><div class=\"sk-label-container\"><div class=\"sk-label sk-toggleable\"><input class=\"sk-toggleable__control sk-hidden--visually\" id=\"sk-estimator-id-2\" type=\"checkbox\" ><label for=\"sk-estimator-id-2\" class=\"sk-toggleable__label sk-toggleable__label-arrow\">estimator: LGBMClassifier</label><div class=\"sk-toggleable__content\"><pre>LGBMClassifier(bagging_seed=42, is_unbalance=True, learning_rate=0.03,\n",
       "               metric=&#x27;auc&#x27;, num_threads=20, objective=&#x27;binary&#x27;,\n",
       "               subsample_freq=5, verbosity=-1)</pre></div></div></div><div class=\"sk-serial\"><div class=\"sk-item\"><div class=\"sk-estimator sk-toggleable\"><input class=\"sk-toggleable__control sk-hidden--visually\" id=\"sk-estimator-id-3\" type=\"checkbox\" ><label for=\"sk-estimator-id-3\" class=\"sk-toggleable__label sk-toggleable__label-arrow\">LGBMClassifier</label><div class=\"sk-toggleable__content\"><pre>LGBMClassifier(bagging_seed=42, is_unbalance=True, learning_rate=0.03,\n",
       "               metric=&#x27;auc&#x27;, num_threads=20, objective=&#x27;binary&#x27;,\n",
       "               subsample_freq=5, verbosity=-1)</pre></div></div></div></div></div></div></div></div></div></div>"
      ],
      "text/plain": [
       "BayesSearchCV(cv=3,\n",
       "              estimator=LGBMClassifier(bagging_seed=42, is_unbalance=True,\n",
       "                                       learning_rate=0.03, metric='auc',\n",
       "                                       num_threads=20, objective='binary',\n",
       "                                       subsample_freq=5, verbosity=-1),\n",
       "              n_iter=10, n_jobs=-1, random_state=1,\n",
       "              search_spaces={'max_depth': Integer(low=5, high=63, prior='uniform', transform='identity'),\n",
       "                             'min_child_samples': Integer(low=50, high=10000, prior='uniform', transform='identity'),\n",
       "                             'min_data_in_leaf': Integer(low=100, high=2000, prior='uniform', transform='identity'),\n",
       "                             'num_leaves': Integer(low=25, high=4000, prior='uniform', transform='identity'),\n",
       "                             'reg_alpha': Real(low=0.0, high=0.05, prior='uniform', transform='identity'),\n",
       "                             'reg_lambda': Real(low=0.0, high=0.05, prior='uniform', transform='identity')},\n",
       "              verbose=1)"
      ]
     },
     "execution_count": 42,
     "metadata": {},
     "output_type": "execute_result"
    }
   ],
   "source": [
    "opt"
   ]
  },
  {
   "cell_type": "code",
   "execution_count": 43,
   "metadata": {},
   "outputs": [
    {
     "name": "stdout",
     "output_type": "stream",
     "text": [
      "Fitting 3 folds for each of 1 candidates, totalling 3 fits\n",
      "Fitting 3 folds for each of 1 candidates, totalling 3 fits\n",
      "Fitting 3 folds for each of 1 candidates, totalling 3 fits\n",
      "Fitting 3 folds for each of 1 candidates, totalling 3 fits\n",
      "Fitting 3 folds for each of 1 candidates, totalling 3 fits\n",
      "Fitting 3 folds for each of 1 candidates, totalling 3 fits\n",
      "Fitting 3 folds for each of 1 candidates, totalling 3 fits\n",
      "Fitting 3 folds for each of 1 candidates, totalling 3 fits\n",
      "Fitting 3 folds for each of 1 candidates, totalling 3 fits\n",
      "Fitting 3 folds for each of 1 candidates, totalling 3 fits\n"
     ]
    },
    {
     "data": {
      "text/html": [
       "<style>#sk-container-id-2 {color: black;background-color: white;}#sk-container-id-2 pre{padding: 0;}#sk-container-id-2 div.sk-toggleable {background-color: white;}#sk-container-id-2 label.sk-toggleable__label {cursor: pointer;display: block;width: 100%;margin-bottom: 0;padding: 0.3em;box-sizing: border-box;text-align: center;}#sk-container-id-2 label.sk-toggleable__label-arrow:before {content: \"▸\";float: left;margin-right: 0.25em;color: #696969;}#sk-container-id-2 label.sk-toggleable__label-arrow:hover:before {color: black;}#sk-container-id-2 div.sk-estimator:hover label.sk-toggleable__label-arrow:before {color: black;}#sk-container-id-2 div.sk-toggleable__content {max-height: 0;max-width: 0;overflow: hidden;text-align: left;background-color: #f0f8ff;}#sk-container-id-2 div.sk-toggleable__content pre {margin: 0.2em;color: black;border-radius: 0.25em;background-color: #f0f8ff;}#sk-container-id-2 input.sk-toggleable__control:checked~div.sk-toggleable__content {max-height: 200px;max-width: 100%;overflow: auto;}#sk-container-id-2 input.sk-toggleable__control:checked~label.sk-toggleable__label-arrow:before {content: \"▾\";}#sk-container-id-2 div.sk-estimator input.sk-toggleable__control:checked~label.sk-toggleable__label {background-color: #d4ebff;}#sk-container-id-2 div.sk-label input.sk-toggleable__control:checked~label.sk-toggleable__label {background-color: #d4ebff;}#sk-container-id-2 input.sk-hidden--visually {border: 0;clip: rect(1px 1px 1px 1px);clip: rect(1px, 1px, 1px, 1px);height: 1px;margin: -1px;overflow: hidden;padding: 0;position: absolute;width: 1px;}#sk-container-id-2 div.sk-estimator {font-family: monospace;background-color: #f0f8ff;border: 1px dotted black;border-radius: 0.25em;box-sizing: border-box;margin-bottom: 0.5em;}#sk-container-id-2 div.sk-estimator:hover {background-color: #d4ebff;}#sk-container-id-2 div.sk-parallel-item::after {content: \"\";width: 100%;border-bottom: 1px solid gray;flex-grow: 1;}#sk-container-id-2 div.sk-label:hover label.sk-toggleable__label {background-color: #d4ebff;}#sk-container-id-2 div.sk-serial::before {content: \"\";position: absolute;border-left: 1px solid gray;box-sizing: border-box;top: 0;bottom: 0;left: 50%;z-index: 0;}#sk-container-id-2 div.sk-serial {display: flex;flex-direction: column;align-items: center;background-color: white;padding-right: 0.2em;padding-left: 0.2em;position: relative;}#sk-container-id-2 div.sk-item {position: relative;z-index: 1;}#sk-container-id-2 div.sk-parallel {display: flex;align-items: stretch;justify-content: center;background-color: white;position: relative;}#sk-container-id-2 div.sk-item::before, #sk-container-id-2 div.sk-parallel-item::before {content: \"\";position: absolute;border-left: 1px solid gray;box-sizing: border-box;top: 0;bottom: 0;left: 50%;z-index: -1;}#sk-container-id-2 div.sk-parallel-item {display: flex;flex-direction: column;z-index: 1;position: relative;background-color: white;}#sk-container-id-2 div.sk-parallel-item:first-child::after {align-self: flex-end;width: 50%;}#sk-container-id-2 div.sk-parallel-item:last-child::after {align-self: flex-start;width: 50%;}#sk-container-id-2 div.sk-parallel-item:only-child::after {width: 0;}#sk-container-id-2 div.sk-dashed-wrapped {border: 1px dashed gray;margin: 0 0.4em 0.5em 0.4em;box-sizing: border-box;padding-bottom: 0.4em;background-color: white;}#sk-container-id-2 div.sk-label label {font-family: monospace;font-weight: bold;display: inline-block;line-height: 1.2em;}#sk-container-id-2 div.sk-label-container {text-align: center;}#sk-container-id-2 div.sk-container {/* jupyter's `normalize.less` sets `[hidden] { display: none; }` but bootstrap.min.css set `[hidden] { display: none !important; }` so we also need the `!important` here to be able to override the default hidden behavior on the sphinx rendered scikit-learn.org. See: https://github.com/scikit-learn/scikit-learn/issues/21755 */display: inline-block !important;position: relative;}#sk-container-id-2 div.sk-text-repr-fallback {display: none;}</style><div id=\"sk-container-id-2\" class=\"sk-top-container\"><div class=\"sk-text-repr-fallback\"><pre>BayesSearchCV(cv=3,\n",
       "              estimator=LGBMClassifier(bagging_seed=42, is_unbalance=True,\n",
       "                                       learning_rate=0.03, metric=&#x27;auc&#x27;,\n",
       "                                       num_threads=20, objective=&#x27;binary&#x27;,\n",
       "                                       subsample_freq=5, verbosity=-1),\n",
       "              n_iter=10, n_jobs=-1, random_state=1,\n",
       "              search_spaces={&#x27;max_depth&#x27;: Integer(low=5, high=63, prior=&#x27;uniform&#x27;, transform=&#x27;normalize&#x27;),\n",
       "                             &#x27;min_child_samples&#x27;: Integer(low=50, high=10000, prior=...form&#x27;, transform=&#x27;normalize&#x27;),\n",
       "                             &#x27;min_data_in_leaf&#x27;: Integer(low=100, high=2000, prior=&#x27;uniform&#x27;, transform=&#x27;normalize&#x27;),\n",
       "                             &#x27;num_leaves&#x27;: Integer(low=25, high=4000, prior=&#x27;uniform&#x27;, transform=&#x27;normalize&#x27;),\n",
       "                             &#x27;reg_alpha&#x27;: Real(low=0.0, high=0.05, prior=&#x27;uniform&#x27;, transform=&#x27;normalize&#x27;),\n",
       "                             &#x27;reg_lambda&#x27;: Real(low=0.0, high=0.05, prior=&#x27;uniform&#x27;, transform=&#x27;normalize&#x27;)},\n",
       "              verbose=1)</pre><b>In a Jupyter environment, please rerun this cell to show the HTML representation or trust the notebook. <br />On GitHub, the HTML representation is unable to render, please try loading this page with nbviewer.org.</b></div><div class=\"sk-container\" hidden><div class=\"sk-item sk-dashed-wrapped\"><div class=\"sk-label-container\"><div class=\"sk-label sk-toggleable\"><input class=\"sk-toggleable__control sk-hidden--visually\" id=\"sk-estimator-id-4\" type=\"checkbox\" ><label for=\"sk-estimator-id-4\" class=\"sk-toggleable__label sk-toggleable__label-arrow\">BayesSearchCV</label><div class=\"sk-toggleable__content\"><pre>BayesSearchCV(cv=3,\n",
       "              estimator=LGBMClassifier(bagging_seed=42, is_unbalance=True,\n",
       "                                       learning_rate=0.03, metric=&#x27;auc&#x27;,\n",
       "                                       num_threads=20, objective=&#x27;binary&#x27;,\n",
       "                                       subsample_freq=5, verbosity=-1),\n",
       "              n_iter=10, n_jobs=-1, random_state=1,\n",
       "              search_spaces={&#x27;max_depth&#x27;: Integer(low=5, high=63, prior=&#x27;uniform&#x27;, transform=&#x27;normalize&#x27;),\n",
       "                             &#x27;min_child_samples&#x27;: Integer(low=50, high=10000, prior=...form&#x27;, transform=&#x27;normalize&#x27;),\n",
       "                             &#x27;min_data_in_leaf&#x27;: Integer(low=100, high=2000, prior=&#x27;uniform&#x27;, transform=&#x27;normalize&#x27;),\n",
       "                             &#x27;num_leaves&#x27;: Integer(low=25, high=4000, prior=&#x27;uniform&#x27;, transform=&#x27;normalize&#x27;),\n",
       "                             &#x27;reg_alpha&#x27;: Real(low=0.0, high=0.05, prior=&#x27;uniform&#x27;, transform=&#x27;normalize&#x27;),\n",
       "                             &#x27;reg_lambda&#x27;: Real(low=0.0, high=0.05, prior=&#x27;uniform&#x27;, transform=&#x27;normalize&#x27;)},\n",
       "              verbose=1)</pre></div></div></div><div class=\"sk-parallel\"><div class=\"sk-parallel-item\"><div class=\"sk-item\"><div class=\"sk-label-container\"><div class=\"sk-label sk-toggleable\"><input class=\"sk-toggleable__control sk-hidden--visually\" id=\"sk-estimator-id-5\" type=\"checkbox\" ><label for=\"sk-estimator-id-5\" class=\"sk-toggleable__label sk-toggleable__label-arrow\">estimator: LGBMClassifier</label><div class=\"sk-toggleable__content\"><pre>LGBMClassifier(bagging_seed=42, is_unbalance=True, learning_rate=0.03,\n",
       "               metric=&#x27;auc&#x27;, num_threads=20, objective=&#x27;binary&#x27;,\n",
       "               subsample_freq=5, verbosity=-1)</pre></div></div></div><div class=\"sk-serial\"><div class=\"sk-item\"><div class=\"sk-estimator sk-toggleable\"><input class=\"sk-toggleable__control sk-hidden--visually\" id=\"sk-estimator-id-6\" type=\"checkbox\" ><label for=\"sk-estimator-id-6\" class=\"sk-toggleable__label sk-toggleable__label-arrow\">LGBMClassifier</label><div class=\"sk-toggleable__content\"><pre>LGBMClassifier(bagging_seed=42, is_unbalance=True, learning_rate=0.03,\n",
       "               metric=&#x27;auc&#x27;, num_threads=20, objective=&#x27;binary&#x27;,\n",
       "               subsample_freq=5, verbosity=-1)</pre></div></div></div></div></div></div></div></div></div></div>"
      ],
      "text/plain": [
       "BayesSearchCV(cv=3,\n",
       "              estimator=LGBMClassifier(bagging_seed=42, is_unbalance=True,\n",
       "                                       learning_rate=0.03, metric='auc',\n",
       "                                       num_threads=20, objective='binary',\n",
       "                                       subsample_freq=5, verbosity=-1),\n",
       "              n_iter=10, n_jobs=-1, random_state=1,\n",
       "              search_spaces={'max_depth': Integer(low=5, high=63, prior='uniform', transform='normalize'),\n",
       "                             'min_child_samples': Integer(low=50, high=10000, prior=...form', transform='normalize'),\n",
       "                             'min_data_in_leaf': Integer(low=100, high=2000, prior='uniform', transform='normalize'),\n",
       "                             'num_leaves': Integer(low=25, high=4000, prior='uniform', transform='normalize'),\n",
       "                             'reg_alpha': Real(low=0.0, high=0.05, prior='uniform', transform='normalize'),\n",
       "                             'reg_lambda': Real(low=0.0, high=0.05, prior='uniform', transform='normalize')},\n",
       "              verbose=1)"
      ]
     },
     "execution_count": 43,
     "metadata": {},
     "output_type": "execute_result"
    }
   ],
   "source": [
    "# executes bayesian optimization\n",
    "opt.fit(X_train, y_train)"
   ]
  },
  {
   "cell_type": "code",
   "execution_count": 44,
   "metadata": {},
   "outputs": [
    {
     "data": {
      "text/plain": [
       "0.78944"
      ]
     },
     "execution_count": 44,
     "metadata": {},
     "output_type": "execute_result"
    }
   ],
   "source": [
    "# model can be saved, used for predictions or scoring\n",
    "opt.score(X_train, y_train)"
   ]
  },
  {
   "cell_type": "code",
   "execution_count": 45,
   "metadata": {},
   "outputs": [
    {
     "data": {
      "text/html": [
       "<style>#sk-container-id-3 {color: black;background-color: white;}#sk-container-id-3 pre{padding: 0;}#sk-container-id-3 div.sk-toggleable {background-color: white;}#sk-container-id-3 label.sk-toggleable__label {cursor: pointer;display: block;width: 100%;margin-bottom: 0;padding: 0.3em;box-sizing: border-box;text-align: center;}#sk-container-id-3 label.sk-toggleable__label-arrow:before {content: \"▸\";float: left;margin-right: 0.25em;color: #696969;}#sk-container-id-3 label.sk-toggleable__label-arrow:hover:before {color: black;}#sk-container-id-3 div.sk-estimator:hover label.sk-toggleable__label-arrow:before {color: black;}#sk-container-id-3 div.sk-toggleable__content {max-height: 0;max-width: 0;overflow: hidden;text-align: left;background-color: #f0f8ff;}#sk-container-id-3 div.sk-toggleable__content pre {margin: 0.2em;color: black;border-radius: 0.25em;background-color: #f0f8ff;}#sk-container-id-3 input.sk-toggleable__control:checked~div.sk-toggleable__content {max-height: 200px;max-width: 100%;overflow: auto;}#sk-container-id-3 input.sk-toggleable__control:checked~label.sk-toggleable__label-arrow:before {content: \"▾\";}#sk-container-id-3 div.sk-estimator input.sk-toggleable__control:checked~label.sk-toggleable__label {background-color: #d4ebff;}#sk-container-id-3 div.sk-label input.sk-toggleable__control:checked~label.sk-toggleable__label {background-color: #d4ebff;}#sk-container-id-3 input.sk-hidden--visually {border: 0;clip: rect(1px 1px 1px 1px);clip: rect(1px, 1px, 1px, 1px);height: 1px;margin: -1px;overflow: hidden;padding: 0;position: absolute;width: 1px;}#sk-container-id-3 div.sk-estimator {font-family: monospace;background-color: #f0f8ff;border: 1px dotted black;border-radius: 0.25em;box-sizing: border-box;margin-bottom: 0.5em;}#sk-container-id-3 div.sk-estimator:hover {background-color: #d4ebff;}#sk-container-id-3 div.sk-parallel-item::after {content: \"\";width: 100%;border-bottom: 1px solid gray;flex-grow: 1;}#sk-container-id-3 div.sk-label:hover label.sk-toggleable__label {background-color: #d4ebff;}#sk-container-id-3 div.sk-serial::before {content: \"\";position: absolute;border-left: 1px solid gray;box-sizing: border-box;top: 0;bottom: 0;left: 50%;z-index: 0;}#sk-container-id-3 div.sk-serial {display: flex;flex-direction: column;align-items: center;background-color: white;padding-right: 0.2em;padding-left: 0.2em;position: relative;}#sk-container-id-3 div.sk-item {position: relative;z-index: 1;}#sk-container-id-3 div.sk-parallel {display: flex;align-items: stretch;justify-content: center;background-color: white;position: relative;}#sk-container-id-3 div.sk-item::before, #sk-container-id-3 div.sk-parallel-item::before {content: \"\";position: absolute;border-left: 1px solid gray;box-sizing: border-box;top: 0;bottom: 0;left: 50%;z-index: -1;}#sk-container-id-3 div.sk-parallel-item {display: flex;flex-direction: column;z-index: 1;position: relative;background-color: white;}#sk-container-id-3 div.sk-parallel-item:first-child::after {align-self: flex-end;width: 50%;}#sk-container-id-3 div.sk-parallel-item:last-child::after {align-self: flex-start;width: 50%;}#sk-container-id-3 div.sk-parallel-item:only-child::after {width: 0;}#sk-container-id-3 div.sk-dashed-wrapped {border: 1px dashed gray;margin: 0 0.4em 0.5em 0.4em;box-sizing: border-box;padding-bottom: 0.4em;background-color: white;}#sk-container-id-3 div.sk-label label {font-family: monospace;font-weight: bold;display: inline-block;line-height: 1.2em;}#sk-container-id-3 div.sk-label-container {text-align: center;}#sk-container-id-3 div.sk-container {/* jupyter's `normalize.less` sets `[hidden] { display: none; }` but bootstrap.min.css set `[hidden] { display: none !important; }` so we also need the `!important` here to be able to override the default hidden behavior on the sphinx rendered scikit-learn.org. See: https://github.com/scikit-learn/scikit-learn/issues/21755 */display: inline-block !important;position: relative;}#sk-container-id-3 div.sk-text-repr-fallback {display: none;}</style><div id=\"sk-container-id-3\" class=\"sk-top-container\"><div class=\"sk-text-repr-fallback\"><pre>LGBMClassifier(bagging_seed=42, is_unbalance=True, learning_rate=0.03,\n",
       "               max_depth=56, metric=&#x27;auc&#x27;, min_child_samples=3627,\n",
       "               min_data_in_leaf=149, num_leaves=2294, num_threads=20,\n",
       "               objective=&#x27;binary&#x27;, reg_alpha=0.023531218502545023,\n",
       "               reg_lambda=0.022648700827027503, subsample_freq=5, verbosity=-1)</pre><b>In a Jupyter environment, please rerun this cell to show the HTML representation or trust the notebook. <br />On GitHub, the HTML representation is unable to render, please try loading this page with nbviewer.org.</b></div><div class=\"sk-container\" hidden><div class=\"sk-item\"><div class=\"sk-estimator sk-toggleable\"><input class=\"sk-toggleable__control sk-hidden--visually\" id=\"sk-estimator-id-7\" type=\"checkbox\" checked><label for=\"sk-estimator-id-7\" class=\"sk-toggleable__label sk-toggleable__label-arrow\">LGBMClassifier</label><div class=\"sk-toggleable__content\"><pre>LGBMClassifier(bagging_seed=42, is_unbalance=True, learning_rate=0.03,\n",
       "               max_depth=56, metric=&#x27;auc&#x27;, min_child_samples=3627,\n",
       "               min_data_in_leaf=149, num_leaves=2294, num_threads=20,\n",
       "               objective=&#x27;binary&#x27;, reg_alpha=0.023531218502545023,\n",
       "               reg_lambda=0.022648700827027503, subsample_freq=5, verbosity=-1)</pre></div></div></div></div></div>"
      ],
      "text/plain": [
       "LGBMClassifier(bagging_seed=42, is_unbalance=True, learning_rate=0.03,\n",
       "               max_depth=56, metric='auc', min_child_samples=3627,\n",
       "               min_data_in_leaf=149, num_leaves=2294, num_threads=20,\n",
       "               objective='binary', reg_alpha=0.023531218502545023,\n",
       "               reg_lambda=0.022648700827027503, subsample_freq=5, verbosity=-1)"
      ]
     },
     "execution_count": 45,
     "metadata": {},
     "output_type": "execute_result"
    }
   ],
   "source": [
    "# estimator which gave highest score (or smallest loss if specified) on the left out data\n",
    "opt.best_estimator_"
   ]
  },
  {
   "cell_type": "code",
   "execution_count": 46,
   "metadata": {},
   "outputs": [
    {
     "data": {
      "text/plain": [
       "0.7116199874424495"
      ]
     },
     "execution_count": 46,
     "metadata": {},
     "output_type": "execute_result"
    }
   ],
   "source": [
    "# Score of best_estimator on the left out data NOT on X_train.\n",
    "opt.best_score_"
   ]
  },
  {
   "cell_type": "code",
   "execution_count": 47,
   "metadata": {},
   "outputs": [
    {
     "data": {
      "text/plain": [
       "0.78944"
      ]
     },
     "execution_count": 47,
     "metadata": {},
     "output_type": "execute_result"
    }
   ],
   "source": [
    "# Score on the training data\n",
    "opt.best_estimator_.score(X_train, y_train)"
   ]
  },
  {
   "cell_type": "code",
   "execution_count": 48,
   "metadata": {},
   "outputs": [
    {
     "data": {
      "text/plain": [
       "OrderedDict([('max_depth', 56),\n",
       "             ('min_child_samples', 3627),\n",
       "             ('min_data_in_leaf', 149),\n",
       "             ('num_leaves', 2294),\n",
       "             ('reg_alpha', 0.023531218502545023),\n",
       "             ('reg_lambda', 0.022648700827027503)])"
      ]
     },
     "execution_count": 48,
     "metadata": {},
     "output_type": "execute_result"
    }
   ],
   "source": [
    "# Parameter setting that gave the best results on the hold out data.\n",
    "opt.best_params_"
   ]
  },
  {
   "cell_type": "code",
   "execution_count": 49,
   "metadata": {},
   "outputs": [
    {
     "data": {
      "text/plain": [
       "{'target': 0.7436766033692709,\n",
       " 'params': {'lambda_l1': 0.03469976418304162,\n",
       "  'lambda_l2': 0.02868054749024032,\n",
       "  'max_depth': 24.086990454131087,\n",
       "  'min_child_samples': 7112.606300057905,\n",
       "  'min_data_in_leaf': 1615.1169568627445,\n",
       "  'num_leaves': 145.731287667976}}"
      ]
     },
     "execution_count": 49,
     "metadata": {},
     "output_type": "execute_result"
    }
   ],
   "source": [
    "lgbBO.max"
   ]
  },
  {
   "cell_type": "markdown",
   "metadata": {},
   "source": [
    "Let us present a comparison table of performance of the two schemes we reported above.\n",
    "\n",
    "|         | `BayesianOptimization`    | `BayesSearchCV` |\n",
    "|   ---   | ---       | ---     |\n",
    "| Accuracy | 0.7437 |  0.7894|\n",
    "| lambda_l1 | 0.0347    | 0.0235 | \n",
    "| lambda_l2 | 0.0287    | 0.0226 |\n",
    "| max_depth | 24.0870    | 56 |\n",
    "| min_child_samples | 7112.6063    | 3627 |\n",
    "| min_data_in_leaf | 1615.1170    | 149 |\n",
    "| num_leaves | 145.7313    | 2294 |\n",
    "\n",
    "We see that `BayesSearchCV` provided a better performance.\n",
    "\n",
    "As mentioned earlier, `scikit-learn`'s `gp_minimize` [algorithm](https://scikit-optimize.github.io/stable/modules/generated/skopt.gp_minimize.html), that also relies on Bayesian optimization using Gaussian Processes, can be used to tune the hyperparameters of a ML model. Its implementation scheme is very similar to the `BayesianOptimization` library (see an [illustration](https://scikit-optimize.github.io/stable/auto_examples/hyperparameter-optimization.html)), but, we have not discussed it here in this notebook."
   ]
  }
 ],
 "metadata": {
  "accelerator": "GPU",
  "colab": {
   "provenance": []
  },
  "deepnote_execution_queue": [],
  "gpuClass": "standard",
  "kernelspec": {
   "display_name": "Python 3 (ipykernel)",
   "language": "python",
   "name": "python3"
  },
  "language_info": {
   "codemirror_mode": {
    "name": "ipython",
    "version": 3
   },
   "file_extension": ".py",
   "mimetype": "text/x-python",
   "name": "python",
   "nbconvert_exporter": "python",
   "pygments_lexer": "ipython3",
   "version": "3.10.4"
  },
  "varInspector": {
   "cols": {
    "lenName": 16,
    "lenType": 16,
    "lenVar": 40
   },
   "kernels_config": {
    "python": {
     "delete_cmd_postfix": "",
     "delete_cmd_prefix": "del ",
     "library": "var_list.py",
     "varRefreshCmd": "print(var_dic_list())"
    },
    "r": {
     "delete_cmd_postfix": ") ",
     "delete_cmd_prefix": "rm(",
     "library": "var_list.r",
     "varRefreshCmd": "cat(var_dic_list()) "
    }
   },
   "types_to_exclude": [
    "module",
    "function",
    "builtin_function_or_method",
    "instance",
    "_Feature"
   ],
   "window_display": false
  }
 },
 "nbformat": 4,
 "nbformat_minor": 4
}
